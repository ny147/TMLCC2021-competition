{
 "cells": [
  {
   "cell_type": "code",
   "metadata": {
    "tags": [],
    "cell_id": "00000-d3a6aefa-d249-40e3-96ee-4a9703435781",
    "deepnote_to_be_reexecuted": false,
    "source_hash": "7850a717",
    "execution_start": 1632408435601,
    "execution_millis": 2,
    "deepnote_cell_type": "code"
   },
   "source": "import numpy as np \nimport pandas as pd",
   "outputs": [],
   "execution_count": null
  },
  {
   "cell_type": "code",
   "source": "df = pd.read_csv('/work/TMLCC2021-competition/dataset/train.csv')",
   "metadata": {
    "tags": [],
    "cell_id": "00001-2ae640e2-ec15-4810-99af-e599dca502e2",
    "deepnote_to_be_reexecuted": false,
    "source_hash": "eda342da",
    "execution_start": 1632408473422,
    "execution_millis": 461,
    "deepnote_cell_type": "code"
   },
   "outputs": [],
   "execution_count": null
  },
  {
   "cell_type": "code",
   "source": "df.head()",
   "metadata": {
    "tags": [],
    "cell_id": "00002-2f202dcd-3825-4e26-817d-5bde82ee57dd",
    "deepnote_to_be_reexecuted": false,
    "source_hash": "c085b6ba",
    "execution_start": 1632408480007,
    "execution_millis": 89,
    "deepnote_cell_type": "code"
   },
   "outputs": [
    {
     "output_type": "execute_result",
     "execution_count": 7,
     "data": {
      "application/vnd.deepnote.dataframe.v2+json": {
       "row_count": 5,
       "column_count": 14,
       "columns": [
        {
         "name": "MOFname",
         "dtype": "object",
         "stats": {
          "unique_count": 5,
          "nan_count": 0,
          "categories": [
           {
            "name": "mof_unit_1",
            "count": 1
           },
           {
            "name": "mof_unit_2",
            "count": 1
           },
           {
            "name": "3 others",
            "count": 3
           }
          ]
         }
        },
        {
         "name": "volume [A^3]",
         "dtype": "float64",
         "stats": {
          "unique_count": 5,
          "nan_count": 0,
          "min": "1089.818728",
          "max": "2769.503842",
          "histogram": [
           {
            "bin_start": 1089.818728,
            "bin_end": 1257.7872394,
            "count": 3
           },
           {
            "bin_start": 1257.7872394,
            "bin_end": 1425.7557508,
            "count": 0
           },
           {
            "bin_start": 1425.7557508,
            "bin_end": 1593.7242621999999,
            "count": 0
           },
           {
            "bin_start": 1593.7242621999999,
            "bin_end": 1761.6927736,
            "count": 0
           },
           {
            "bin_start": 1761.6927736,
            "bin_end": 1929.6612850000001,
            "count": 0
           },
           {
            "bin_start": 1929.6612850000001,
            "bin_end": 2097.6297964,
            "count": 0
           },
           {
            "bin_start": 2097.6297964,
            "bin_end": 2265.5983078,
            "count": 1
           },
           {
            "bin_start": 2265.5983078,
            "bin_end": 2433.5668192000003,
            "count": 0
           },
           {
            "bin_start": 2433.5668192000003,
            "bin_end": 2601.5353305999997,
            "count": 0
           },
           {
            "bin_start": 2601.5353305999997,
            "bin_end": 2769.503842,
            "count": 1
           }
          ]
         }
        },
        {
         "name": "weight [u]",
         "dtype": "float64",
         "stats": {
          "unique_count": 5,
          "nan_count": 0,
          "min": "773.68796",
          "max": "2211.697211",
          "histogram": [
           {
            "bin_start": 773.68796,
            "bin_end": 917.4888851000001,
            "count": 3
           },
           {
            "bin_start": 917.4888851000001,
            "bin_end": 1061.2898102,
            "count": 0
           },
           {
            "bin_start": 1061.2898102,
            "bin_end": 1205.0907353,
            "count": 0
           },
           {
            "bin_start": 1205.0907353,
            "bin_end": 1348.8916604,
            "count": 1
           },
           {
            "bin_start": 1348.8916604,
            "bin_end": 1492.6925855000002,
            "count": 0
           },
           {
            "bin_start": 1492.6925855000002,
            "bin_end": 1636.4935106000003,
            "count": 0
           },
           {
            "bin_start": 1636.4935106000003,
            "bin_end": 1780.2944357000001,
            "count": 0
           },
           {
            "bin_start": 1780.2944357000001,
            "bin_end": 1924.0953608000002,
            "count": 0
           },
           {
            "bin_start": 1924.0953608000002,
            "bin_end": 2067.8962859000003,
            "count": 0
           },
           {
            "bin_start": 2067.8962859000003,
            "bin_end": 2211.697211,
            "count": 1
           }
          ]
         }
        },
        {
         "name": "surface_area [m^2/g]",
         "dtype": "float64",
         "stats": {
          "unique_count": 4,
          "nan_count": 0,
          "min": "0.0",
          "max": "1441.53",
          "histogram": [
           {
            "bin_start": 0,
            "bin_end": 144.153,
            "count": 2
           },
           {
            "bin_start": 144.153,
            "bin_end": 288.306,
            "count": 0
           },
           {
            "bin_start": 288.306,
            "bin_end": 432.45899999999995,
            "count": 0
           },
           {
            "bin_start": 432.45899999999995,
            "bin_end": 576.612,
            "count": 0
           },
           {
            "bin_start": 576.612,
            "bin_end": 720.765,
            "count": 1
           },
           {
            "bin_start": 720.765,
            "bin_end": 864.9179999999999,
            "count": 1
           },
           {
            "bin_start": 864.9179999999999,
            "bin_end": 1009.0709999999999,
            "count": 0
           },
           {
            "bin_start": 1009.0709999999999,
            "bin_end": 1153.224,
            "count": 0
           },
           {
            "bin_start": 1153.224,
            "bin_end": 1297.377,
            "count": 0
           },
           {
            "bin_start": 1297.377,
            "bin_end": 1441.53,
            "count": 1
           }
          ]
         }
        },
        {
         "name": "void_fraction",
         "dtype": "float64",
         "stats": {
          "unique_count": 5,
          "nan_count": 0,
          "min": "0.07778",
          "max": "0.21814",
          "histogram": [
           {
            "bin_start": 0.07778,
            "bin_end": 0.091816,
            "count": 2
           },
           {
            "bin_start": 0.091816,
            "bin_end": 0.105852,
            "count": 0
           },
           {
            "bin_start": 0.105852,
            "bin_end": 0.119888,
            "count": 0
           },
           {
            "bin_start": 0.119888,
            "bin_end": 0.133924,
            "count": 0
           },
           {
            "bin_start": 0.133924,
            "bin_end": 0.14795999999999998,
            "count": 1
           },
           {
            "bin_start": 0.14795999999999998,
            "bin_end": 0.16199599999999997,
            "count": 1
           },
           {
            "bin_start": 0.16199599999999997,
            "bin_end": 0.176032,
            "count": 0
           },
           {
            "bin_start": 0.176032,
            "bin_end": 0.190068,
            "count": 0
           },
           {
            "bin_start": 0.190068,
            "bin_end": 0.204104,
            "count": 0
           },
           {
            "bin_start": 0.204104,
            "bin_end": 0.21814,
            "count": 1
           }
          ]
         }
        },
        {
         "name": "void_volume [cm^3/g]",
         "dtype": "float64",
         "stats": {
          "unique_count": 5,
          "nan_count": 0,
          "min": "0.0591",
          "max": "0.222",
          "histogram": [
           {
            "bin_start": 0.0591,
            "bin_end": 0.07539,
            "count": 2
           },
           {
            "bin_start": 0.07539,
            "bin_end": 0.09168,
            "count": 0
           },
           {
            "bin_start": 0.09168,
            "bin_end": 0.10797,
            "count": 1
           },
           {
            "bin_start": 0.10797,
            "bin_end": 0.12426,
            "count": 0
           },
           {
            "bin_start": 0.12426,
            "bin_end": 0.14055,
            "count": 1
           },
           {
            "bin_start": 0.14055,
            "bin_end": 0.15683999999999998,
            "count": 0
           },
           {
            "bin_start": 0.15683999999999998,
            "bin_end": 0.17313,
            "count": 0
           },
           {
            "bin_start": 0.17313,
            "bin_end": 0.18941999999999998,
            "count": 0
           },
           {
            "bin_start": 0.18941999999999998,
            "bin_end": 0.20571,
            "count": 0
           },
           {
            "bin_start": 0.20571,
            "bin_end": 0.222,
            "count": 1
           }
          ]
         }
        },
        {
         "name": "functional_groups",
         "dtype": "object",
         "stats": {
          "unique_count": 5,
          "nan_count": 0,
          "categories": [
           {
            "name": "COOH-OEt",
            "count": 1
           },
           {
            "name": "F-OMe",
            "count": 1
           },
           {
            "name": "3 others",
            "count": 3
           }
          ]
         }
        },
        {
         "name": "metal_linker",
         "dtype": "int64",
         "stats": {
          "unique_count": 4,
          "nan_count": 0,
          "min": "2",
          "max": "10",
          "histogram": [
           {
            "bin_start": 2,
            "bin_end": 2.8,
            "count": 2
           },
           {
            "bin_start": 2.8,
            "bin_end": 3.6,
            "count": 1
           },
           {
            "bin_start": 3.6,
            "bin_end": 4.4,
            "count": 0
           },
           {
            "bin_start": 4.4,
            "bin_end": 5.2,
            "count": 0
           },
           {
            "bin_start": 5.2,
            "bin_end": 6,
            "count": 0
           },
           {
            "bin_start": 6,
            "bin_end": 6.800000000000001,
            "count": 0
           },
           {
            "bin_start": 6.800000000000001,
            "bin_end": 7.6000000000000005,
            "count": 0
           },
           {
            "bin_start": 7.6000000000000005,
            "bin_end": 8.4,
            "count": 0
           },
           {
            "bin_start": 8.4,
            "bin_end": 9.2,
            "count": 1
           },
           {
            "bin_start": 9.2,
            "bin_end": 10,
            "count": 1
           }
          ]
         }
        },
        {
         "name": "organic_linker1",
         "dtype": "int64",
         "stats": {
          "unique_count": 5,
          "nan_count": 0,
          "min": "1",
          "max": "44",
          "histogram": [
           {
            "bin_start": 1,
            "bin_end": 5.3,
            "count": 2
           },
           {
            "bin_start": 5.3,
            "bin_end": 9.6,
            "count": 0
           },
           {
            "bin_start": 9.6,
            "bin_end": 13.899999999999999,
            "count": 0
           },
           {
            "bin_start": 13.899999999999999,
            "bin_end": 18.2,
            "count": 1
           },
           {
            "bin_start": 18.2,
            "bin_end": 22.5,
            "count": 1
           },
           {
            "bin_start": 22.5,
            "bin_end": 26.799999999999997,
            "count": 0
           },
           {
            "bin_start": 26.799999999999997,
            "bin_end": 31.099999999999998,
            "count": 0
           },
           {
            "bin_start": 31.099999999999998,
            "bin_end": 35.4,
            "count": 0
           },
           {
            "bin_start": 35.4,
            "bin_end": 39.699999999999996,
            "count": 0
           },
           {
            "bin_start": 39.699999999999996,
            "bin_end": 44,
            "count": 1
           }
          ]
         }
        },
        {
         "name": "organic_linker2",
         "dtype": "int64",
         "stats": {
          "unique_count": 4,
          "nan_count": 0,
          "min": "11",
          "max": "57",
          "histogram": [
           {
            "bin_start": 11,
            "bin_end": 15.6,
            "count": 1
           },
           {
            "bin_start": 15.6,
            "bin_end": 20.2,
            "count": 0
           },
           {
            "bin_start": 20.2,
            "bin_end": 24.799999999999997,
            "count": 3
           },
           {
            "bin_start": 24.799999999999997,
            "bin_end": 29.4,
            "count": 0
           },
           {
            "bin_start": 29.4,
            "bin_end": 34,
            "count": 0
           },
           {
            "bin_start": 34,
            "bin_end": 38.599999999999994,
            "count": 0
           },
           {
            "bin_start": 38.599999999999994,
            "bin_end": 43.199999999999996,
            "count": 0
           },
           {
            "bin_start": 43.199999999999996,
            "bin_end": 47.8,
            "count": 0
           },
           {
            "bin_start": 47.8,
            "bin_end": 52.4,
            "count": 0
           },
           {
            "bin_start": 52.4,
            "bin_end": 57,
            "count": 1
           }
          ]
         }
        },
        {
         "name": "topology",
         "dtype": "object",
         "stats": {
          "unique_count": 3,
          "nan_count": 0,
          "categories": [
           {
            "name": "pcu",
            "count": 3
           },
           {
            "name": "etb",
            "count": 1
           },
           {
            "name": "sra",
            "count": 1
           }
          ]
         }
        },
        {
         "name": "CO2/N2_selectivity",
         "dtype": "float64",
         "stats": {
          "unique_count": 5,
          "nan_count": 0,
          "min": "19.26372569",
          "max": "33.61678033",
          "histogram": [
           {
            "bin_start": 19.26372569,
            "bin_end": 20.699031154,
            "count": 1
           },
           {
            "bin_start": 20.699031154,
            "bin_end": 22.134336618,
            "count": 0
           },
           {
            "bin_start": 22.134336618,
            "bin_end": 23.569642082,
            "count": 1
           },
           {
            "bin_start": 23.569642082,
            "bin_end": 25.004947546,
            "count": 0
           },
           {
            "bin_start": 25.004947546,
            "bin_end": 26.44025301,
            "count": 1
           },
           {
            "bin_start": 26.44025301,
            "bin_end": 27.875558473999998,
            "count": 0
           },
           {
            "bin_start": 27.875558473999998,
            "bin_end": 29.310863937999997,
            "count": 0
           },
           {
            "bin_start": 29.310863937999997,
            "bin_end": 30.746169402,
            "count": 1
           },
           {
            "bin_start": 30.746169402,
            "bin_end": 32.181474865999995,
            "count": 0
           },
           {
            "bin_start": 32.181474865999995,
            "bin_end": 33.61678033,
            "count": 1
           }
          ]
         }
        },
        {
         "name": "heat_adsorption_CO2_P0.15bar_T298K [kcal/mol]",
         "dtype": "float64",
         "stats": {
          "unique_count": 5,
          "nan_count": 0,
          "min": "6.190085",
          "max": "7.147286",
          "histogram": [
           {
            "bin_start": 6.190085,
            "bin_end": 6.2858051,
            "count": 1
           },
           {
            "bin_start": 6.2858051,
            "bin_end": 6.3815252,
            "count": 1
           },
           {
            "bin_start": 6.3815252,
            "bin_end": 6.4772453,
            "count": 0
           },
           {
            "bin_start": 6.4772453,
            "bin_end": 6.5729654,
            "count": 1
           },
           {
            "bin_start": 6.5729654,
            "bin_end": 6.6686855000000005,
            "count": 0
           },
           {
            "bin_start": 6.6686855000000005,
            "bin_end": 6.7644056,
            "count": 0
           },
           {
            "bin_start": 6.7644056,
            "bin_end": 6.8601257,
            "count": 1
           },
           {
            "bin_start": 6.8601257,
            "bin_end": 6.9558458000000005,
            "count": 0
           },
           {
            "bin_start": 6.9558458000000005,
            "bin_end": 7.0515659,
            "count": 0
           },
           {
            "bin_start": 7.0515659,
            "bin_end": 7.147286,
            "count": 1
           }
          ]
         }
        },
        {
         "name": "CO2_working_capacity [mL/g]",
         "dtype": "float64",
         "stats": {
          "unique_count": 5,
          "nan_count": 0,
          "min": "79.21000065588353",
          "max": "187.62600449626183",
          "histogram": [
           {
            "bin_start": 79.21000065588353,
            "bin_end": 90.05160103992137,
            "count": 1
           },
           {
            "bin_start": 90.05160103992137,
            "bin_end": 100.8932014239592,
            "count": 0
           },
           {
            "bin_start": 100.8932014239592,
            "bin_end": 111.73480180799702,
            "count": 2
           },
           {
            "bin_start": 111.73480180799702,
            "bin_end": 122.57640219203485,
            "count": 1
           },
           {
            "bin_start": 122.57640219203485,
            "bin_end": 133.4180025760727,
            "count": 0
           },
           {
            "bin_start": 133.4180025760727,
            "bin_end": 144.2596029601105,
            "count": 0
           },
           {
            "bin_start": 144.2596029601105,
            "bin_end": 155.10120334414833,
            "count": 0
           },
           {
            "bin_start": 155.10120334414833,
            "bin_end": 165.94280372818616,
            "count": 0
           },
           {
            "bin_start": 165.94280372818616,
            "bin_end": 176.784404112224,
            "count": 0
           },
           {
            "bin_start": 176.784404112224,
            "bin_end": 187.62600449626183,
            "count": 1
           }
          ]
         }
        },
        {
         "name": "_deepnote_index_column",
         "dtype": "int64"
        }
       ],
       "rows_top": [
        {
         "MOFname": "mof_unit_1",
         "volume [A^3]": 1116.667429,
         "weight [u]": 875.2405999999999,
         "surface_area [m^2/g]": 0,
         "void_fraction": 0.07899,
         "void_volume [cm^3/g]": 0.0606999999999999,
         "functional_groups": "COOH-OEt",
         "metal_linker": 3,
         "organic_linker1": 4,
         "organic_linker2": 11,
         "topology": "pcu",
         "CO2/N2_selectivity": 22.86416611,
         "heat_adsorption_CO2_P0.15bar_T298K [kcal/mol]": 6.786041,
         "CO2_working_capacity [mL/g]": 105.2845017241596,
         "_deepnote_index_column": 0
        },
        {
         "MOFname": "mof_unit_2",
         "volume [A^3]": 2769.503842,
         "weight [u]": 2211.697211,
         "surface_area [m^2/g]": 603.61,
         "void_fraction": 0.13794,
         "void_volume [cm^3/g]": 0.104,
         "functional_groups": "F-OMe",
         "metal_linker": 10,
         "organic_linker1": 44,
         "organic_linker2": 57,
         "topology": "etb",
         "CO2/N2_selectivity": 33.61678033,
         "heat_adsorption_CO2_P0.15bar_T298K [kcal/mol]": 7.147286,
         "CO2_working_capacity [mL/g]": 101.22477417834172,
         "_deepnote_index_column": 1
        },
        {
         "MOFname": "mof_unit_3",
         "volume [A^3]": 1089.818728,
         "weight [u]": 773.68796,
         "surface_area [m^2/g]": 788.5,
         "void_fraction": 0.14874,
         "void_volume [cm^3/g]": 0.1262,
         "functional_groups": "OMe-COOH",
         "metal_linker": 2,
         "organic_linker1": 22,
         "organic_linker2": 24,
         "topology": "pcu",
         "CO2/N2_selectivity": 19.26372569,
         "heat_adsorption_CO2_P0.15bar_T298K [kcal/mol]": 6.347967,
         "CO2_working_capacity [mL/g]": 118.98701074687752,
         "_deepnote_index_column": 2
        },
        {
         "MOFname": "mof_unit_4",
         "volume [A^3]": 2205.1983010000004,
         "weight [u]": 1304.63872,
         "surface_area [m^2/g]": 1441.53,
         "void_fraction": 0.21814,
         "void_volume [cm^3/g]": 0.222,
         "functional_groups": "H-SO3H",
         "metal_linker": 9,
         "organic_linker1": 17,
         "organic_linker2": 24,
         "topology": "sra",
         "CO2/N2_selectivity": 25.70137692,
         "heat_adsorption_CO2_P0.15bar_T298K [kcal/mol]": 6.190085,
         "CO2_working_capacity [mL/g]": 187.62600449626183,
         "_deepnote_index_column": 3
        },
        {
         "MOFname": "mof_unit_5",
         "volume [A^3]": 1137.800963,
         "weight [u]": 901.73612,
         "surface_area [m^2/g]": 0,
         "void_fraction": 0.07778,
         "void_volume [cm^3/g]": 0.0591,
         "functional_groups": "NHMe-OH",
         "metal_linker": 2,
         "organic_linker1": 1,
         "organic_linker2": 22,
         "topology": "pcu",
         "CO2/N2_selectivity": 30.00183795,
         "heat_adsorption_CO2_P0.15bar_T298K [kcal/mol]": 6.478063,
         "CO2_working_capacity [mL/g]": 79.21000065588353,
         "_deepnote_index_column": 4
        }
       ],
       "rows_bottom": null
      },
      "text/plain": "      MOFname  volume [A^3]   weight [u]  surface_area [m^2/g]  void_fraction  \\\n0  mof_unit_1   1116.667429   875.240600                  0.00        0.07899   \n1  mof_unit_2   2769.503842  2211.697211                603.61        0.13794   \n2  mof_unit_3   1089.818728   773.687960                788.50        0.14874   \n3  mof_unit_4   2205.198301  1304.638720               1441.53        0.21814   \n4  mof_unit_5   1137.800963   901.736120                  0.00        0.07778   \n\n   void_volume [cm^3/g] functional_groups  metal_linker  organic_linker1  \\\n0                0.0607          COOH-OEt             3                4   \n1                0.1040             F-OMe            10               44   \n2                0.1262          OMe-COOH             2               22   \n3                0.2220            H-SO3H             9               17   \n4                0.0591           NHMe-OH             2                1   \n\n   organic_linker2 topology  CO2/N2_selectivity  \\\n0               11      pcu           22.864166   \n1               57      etb           33.616780   \n2               24      pcu           19.263726   \n3               24      sra           25.701377   \n4               22      pcu           30.001838   \n\n   heat_adsorption_CO2_P0.15bar_T298K [kcal/mol]  CO2_working_capacity [mL/g]  \n0                                       6.786041                   105.284502  \n1                                       7.147286                   101.224774  \n2                                       6.347967                   118.987011  \n3                                       6.190085                   187.626004  \n4                                       6.478063                    79.210001  ",
      "text/html": "<div>\n<style scoped>\n    .dataframe tbody tr th:only-of-type {\n        vertical-align: middle;\n    }\n\n    .dataframe tbody tr th {\n        vertical-align: top;\n    }\n\n    .dataframe thead th {\n        text-align: right;\n    }\n</style>\n<table border=\"1\" class=\"dataframe\">\n  <thead>\n    <tr style=\"text-align: right;\">\n      <th></th>\n      <th>MOFname</th>\n      <th>volume [A^3]</th>\n      <th>weight [u]</th>\n      <th>surface_area [m^2/g]</th>\n      <th>void_fraction</th>\n      <th>void_volume [cm^3/g]</th>\n      <th>functional_groups</th>\n      <th>metal_linker</th>\n      <th>organic_linker1</th>\n      <th>organic_linker2</th>\n      <th>topology</th>\n      <th>CO2/N2_selectivity</th>\n      <th>heat_adsorption_CO2_P0.15bar_T298K [kcal/mol]</th>\n      <th>CO2_working_capacity [mL/g]</th>\n    </tr>\n  </thead>\n  <tbody>\n    <tr>\n      <th>0</th>\n      <td>mof_unit_1</td>\n      <td>1116.667429</td>\n      <td>875.240600</td>\n      <td>0.00</td>\n      <td>0.07899</td>\n      <td>0.0607</td>\n      <td>COOH-OEt</td>\n      <td>3</td>\n      <td>4</td>\n      <td>11</td>\n      <td>pcu</td>\n      <td>22.864166</td>\n      <td>6.786041</td>\n      <td>105.284502</td>\n    </tr>\n    <tr>\n      <th>1</th>\n      <td>mof_unit_2</td>\n      <td>2769.503842</td>\n      <td>2211.697211</td>\n      <td>603.61</td>\n      <td>0.13794</td>\n      <td>0.1040</td>\n      <td>F-OMe</td>\n      <td>10</td>\n      <td>44</td>\n      <td>57</td>\n      <td>etb</td>\n      <td>33.616780</td>\n      <td>7.147286</td>\n      <td>101.224774</td>\n    </tr>\n    <tr>\n      <th>2</th>\n      <td>mof_unit_3</td>\n      <td>1089.818728</td>\n      <td>773.687960</td>\n      <td>788.50</td>\n      <td>0.14874</td>\n      <td>0.1262</td>\n      <td>OMe-COOH</td>\n      <td>2</td>\n      <td>22</td>\n      <td>24</td>\n      <td>pcu</td>\n      <td>19.263726</td>\n      <td>6.347967</td>\n      <td>118.987011</td>\n    </tr>\n    <tr>\n      <th>3</th>\n      <td>mof_unit_4</td>\n      <td>2205.198301</td>\n      <td>1304.638720</td>\n      <td>1441.53</td>\n      <td>0.21814</td>\n      <td>0.2220</td>\n      <td>H-SO3H</td>\n      <td>9</td>\n      <td>17</td>\n      <td>24</td>\n      <td>sra</td>\n      <td>25.701377</td>\n      <td>6.190085</td>\n      <td>187.626004</td>\n    </tr>\n    <tr>\n      <th>4</th>\n      <td>mof_unit_5</td>\n      <td>1137.800963</td>\n      <td>901.736120</td>\n      <td>0.00</td>\n      <td>0.07778</td>\n      <td>0.0591</td>\n      <td>NHMe-OH</td>\n      <td>2</td>\n      <td>1</td>\n      <td>22</td>\n      <td>pcu</td>\n      <td>30.001838</td>\n      <td>6.478063</td>\n      <td>79.210001</td>\n    </tr>\n  </tbody>\n</table>\n</div>"
     },
     "metadata": {}
    }
   ],
   "execution_count": null
  },
  {
   "cell_type": "code",
   "source": "df.isnull().sum()",
   "metadata": {
    "tags": [],
    "cell_id": "00003-4ebea90f-2775-43f0-9e8f-d151e6e476da",
    "deepnote_to_be_reexecuted": false,
    "source_hash": "f3dd26da",
    "execution_start": 1632408493476,
    "execution_millis": 12,
    "deepnote_cell_type": "code"
   },
   "outputs": [
    {
     "output_type": "execute_result",
     "execution_count": 8,
     "data": {
      "text/plain": "MOFname                                             0\nvolume [A^3]                                        0\nweight [u]                                          0\nsurface_area [m^2/g]                                0\nvoid_fraction                                       0\nvoid_volume [cm^3/g]                                0\nfunctional_groups                                 323\nmetal_linker                                        0\norganic_linker1                                     0\norganic_linker2                                     0\ntopology                                            0\nCO2/N2_selectivity                                  0\nheat_adsorption_CO2_P0.15bar_T298K [kcal/mol]    2087\nCO2_working_capacity [mL/g]                         0\ndtype: int64"
     },
     "metadata": {}
    }
   ],
   "execution_count": null
  },
  {
   "cell_type": "code",
   "source": "df.columns",
   "metadata": {
    "tags": [],
    "cell_id": "00004-5d87747d-629e-4425-b3b0-ac37dc091fd1",
    "deepnote_to_be_reexecuted": false,
    "source_hash": "25d43fa0",
    "execution_start": 1632408826707,
    "execution_millis": 1,
    "deepnote_cell_type": "code"
   },
   "outputs": [
    {
     "output_type": "execute_result",
     "execution_count": 12,
     "data": {
      "text/plain": "Index(['MOFname', 'volume [A^3]', 'weight [u]', 'surface_area [m^2/g]',\n       'void_fraction', 'void_volume [cm^3/g]', 'functional_groups',\n       'metal_linker', 'organic_linker1', 'organic_linker2', 'topology',\n       'CO2/N2_selectivity', 'heat_adsorption_CO2_P0.15bar_T298K [kcal/mol]',\n       'CO2_working_capacity [mL/g]'],\n      dtype='object')"
     },
     "metadata": {}
    }
   ],
   "execution_count": null
  },
  {
   "cell_type": "code",
   "source": "column = ['name','vol','weight','SA','VF','VV','FG','ML','OL1','OL2','TP','CO2/N2','Heat','CO2W']",
   "metadata": {
    "tags": [],
    "cell_id": "00005-110e7602-b9d7-4b99-8a66-3c2e283ac19e",
    "deepnote_to_be_reexecuted": false,
    "source_hash": "89c3277",
    "execution_start": 1632408949882,
    "execution_millis": 0,
    "deepnote_cell_type": "code"
   },
   "outputs": [],
   "execution_count": null
  },
  {
   "cell_type": "code",
   "source": "df = df.rename(columns={'MOFname' : 'name' , 'volume [A^3]':'vol','weight [u]':'weight' ,'surface_area [m^2/g]':'SA',\n           'void_fraction':'VF', 'void_volume [cm^3/g]':'VV','functional_groups':'FG',\n           'metal_linker':'ML','organic_linker1':'OL1','organic_linker2':'OL2',\n           'topology':'TP', 'CO2/N2_selectivity':'CO2/N2','heat_adsorption_CO2_P0.15bar_T298K [kcal/mol]':'Heat',\n           'CO2_working_capacity [mL/g]' : 'CO2W'\n            })\ndf.head()",
   "metadata": {
    "tags": [],
    "cell_id": "00006-4e230ce5-de90-4f33-a519-b972b55c313f",
    "deepnote_to_be_reexecuted": false,
    "source_hash": "2a79b49d",
    "execution_start": 1632409617596,
    "execution_millis": 46,
    "deepnote_cell_type": "code"
   },
   "outputs": [
    {
     "output_type": "execute_result",
     "execution_count": 22,
     "data": {
      "application/vnd.deepnote.dataframe.v2+json": {
       "row_count": 5,
       "column_count": 14,
       "columns": [
        {
         "name": "name",
         "dtype": "object",
         "stats": {
          "unique_count": 5,
          "nan_count": 0,
          "categories": [
           {
            "name": "mof_unit_1",
            "count": 1
           },
           {
            "name": "mof_unit_2",
            "count": 1
           },
           {
            "name": "3 others",
            "count": 3
           }
          ]
         }
        },
        {
         "name": "vol",
         "dtype": "float64",
         "stats": {
          "unique_count": 5,
          "nan_count": 0,
          "min": "1089.818728",
          "max": "2769.503842",
          "histogram": [
           {
            "bin_start": 1089.818728,
            "bin_end": 1257.7872394,
            "count": 3
           },
           {
            "bin_start": 1257.7872394,
            "bin_end": 1425.7557508,
            "count": 0
           },
           {
            "bin_start": 1425.7557508,
            "bin_end": 1593.7242621999999,
            "count": 0
           },
           {
            "bin_start": 1593.7242621999999,
            "bin_end": 1761.6927736,
            "count": 0
           },
           {
            "bin_start": 1761.6927736,
            "bin_end": 1929.6612850000001,
            "count": 0
           },
           {
            "bin_start": 1929.6612850000001,
            "bin_end": 2097.6297964,
            "count": 0
           },
           {
            "bin_start": 2097.6297964,
            "bin_end": 2265.5983078,
            "count": 1
           },
           {
            "bin_start": 2265.5983078,
            "bin_end": 2433.5668192000003,
            "count": 0
           },
           {
            "bin_start": 2433.5668192000003,
            "bin_end": 2601.5353305999997,
            "count": 0
           },
           {
            "bin_start": 2601.5353305999997,
            "bin_end": 2769.503842,
            "count": 1
           }
          ]
         }
        },
        {
         "name": "weight",
         "dtype": "float64",
         "stats": {
          "unique_count": 5,
          "nan_count": 0,
          "min": "773.68796",
          "max": "2211.697211",
          "histogram": [
           {
            "bin_start": 773.68796,
            "bin_end": 917.4888851000001,
            "count": 3
           },
           {
            "bin_start": 917.4888851000001,
            "bin_end": 1061.2898102,
            "count": 0
           },
           {
            "bin_start": 1061.2898102,
            "bin_end": 1205.0907353,
            "count": 0
           },
           {
            "bin_start": 1205.0907353,
            "bin_end": 1348.8916604,
            "count": 1
           },
           {
            "bin_start": 1348.8916604,
            "bin_end": 1492.6925855000002,
            "count": 0
           },
           {
            "bin_start": 1492.6925855000002,
            "bin_end": 1636.4935106000003,
            "count": 0
           },
           {
            "bin_start": 1636.4935106000003,
            "bin_end": 1780.2944357000001,
            "count": 0
           },
           {
            "bin_start": 1780.2944357000001,
            "bin_end": 1924.0953608000002,
            "count": 0
           },
           {
            "bin_start": 1924.0953608000002,
            "bin_end": 2067.8962859000003,
            "count": 0
           },
           {
            "bin_start": 2067.8962859000003,
            "bin_end": 2211.697211,
            "count": 1
           }
          ]
         }
        },
        {
         "name": "SA",
         "dtype": "float64",
         "stats": {
          "unique_count": 4,
          "nan_count": 0,
          "min": "0.0",
          "max": "1441.53",
          "histogram": [
           {
            "bin_start": 0,
            "bin_end": 144.153,
            "count": 2
           },
           {
            "bin_start": 144.153,
            "bin_end": 288.306,
            "count": 0
           },
           {
            "bin_start": 288.306,
            "bin_end": 432.45899999999995,
            "count": 0
           },
           {
            "bin_start": 432.45899999999995,
            "bin_end": 576.612,
            "count": 0
           },
           {
            "bin_start": 576.612,
            "bin_end": 720.765,
            "count": 1
           },
           {
            "bin_start": 720.765,
            "bin_end": 864.9179999999999,
            "count": 1
           },
           {
            "bin_start": 864.9179999999999,
            "bin_end": 1009.0709999999999,
            "count": 0
           },
           {
            "bin_start": 1009.0709999999999,
            "bin_end": 1153.224,
            "count": 0
           },
           {
            "bin_start": 1153.224,
            "bin_end": 1297.377,
            "count": 0
           },
           {
            "bin_start": 1297.377,
            "bin_end": 1441.53,
            "count": 1
           }
          ]
         }
        },
        {
         "name": "VF",
         "dtype": "float64",
         "stats": {
          "unique_count": 5,
          "nan_count": 0,
          "min": "0.07778",
          "max": "0.21814",
          "histogram": [
           {
            "bin_start": 0.07778,
            "bin_end": 0.091816,
            "count": 2
           },
           {
            "bin_start": 0.091816,
            "bin_end": 0.105852,
            "count": 0
           },
           {
            "bin_start": 0.105852,
            "bin_end": 0.119888,
            "count": 0
           },
           {
            "bin_start": 0.119888,
            "bin_end": 0.133924,
            "count": 0
           },
           {
            "bin_start": 0.133924,
            "bin_end": 0.14795999999999998,
            "count": 1
           },
           {
            "bin_start": 0.14795999999999998,
            "bin_end": 0.16199599999999997,
            "count": 1
           },
           {
            "bin_start": 0.16199599999999997,
            "bin_end": 0.176032,
            "count": 0
           },
           {
            "bin_start": 0.176032,
            "bin_end": 0.190068,
            "count": 0
           },
           {
            "bin_start": 0.190068,
            "bin_end": 0.204104,
            "count": 0
           },
           {
            "bin_start": 0.204104,
            "bin_end": 0.21814,
            "count": 1
           }
          ]
         }
        },
        {
         "name": "VV",
         "dtype": "float64",
         "stats": {
          "unique_count": 5,
          "nan_count": 0,
          "min": "0.0591",
          "max": "0.222",
          "histogram": [
           {
            "bin_start": 0.0591,
            "bin_end": 0.07539,
            "count": 2
           },
           {
            "bin_start": 0.07539,
            "bin_end": 0.09168,
            "count": 0
           },
           {
            "bin_start": 0.09168,
            "bin_end": 0.10797,
            "count": 1
           },
           {
            "bin_start": 0.10797,
            "bin_end": 0.12426,
            "count": 0
           },
           {
            "bin_start": 0.12426,
            "bin_end": 0.14055,
            "count": 1
           },
           {
            "bin_start": 0.14055,
            "bin_end": 0.15683999999999998,
            "count": 0
           },
           {
            "bin_start": 0.15683999999999998,
            "bin_end": 0.17313,
            "count": 0
           },
           {
            "bin_start": 0.17313,
            "bin_end": 0.18941999999999998,
            "count": 0
           },
           {
            "bin_start": 0.18941999999999998,
            "bin_end": 0.20571,
            "count": 0
           },
           {
            "bin_start": 0.20571,
            "bin_end": 0.222,
            "count": 1
           }
          ]
         }
        },
        {
         "name": "FG",
         "dtype": "object",
         "stats": {
          "unique_count": 5,
          "nan_count": 0,
          "categories": [
           {
            "name": "COOH-OEt",
            "count": 1
           },
           {
            "name": "F-OMe",
            "count": 1
           },
           {
            "name": "3 others",
            "count": 3
           }
          ]
         }
        },
        {
         "name": "ML",
         "dtype": "int64",
         "stats": {
          "unique_count": 4,
          "nan_count": 0,
          "min": "2",
          "max": "10",
          "histogram": [
           {
            "bin_start": 2,
            "bin_end": 2.8,
            "count": 2
           },
           {
            "bin_start": 2.8,
            "bin_end": 3.6,
            "count": 1
           },
           {
            "bin_start": 3.6,
            "bin_end": 4.4,
            "count": 0
           },
           {
            "bin_start": 4.4,
            "bin_end": 5.2,
            "count": 0
           },
           {
            "bin_start": 5.2,
            "bin_end": 6,
            "count": 0
           },
           {
            "bin_start": 6,
            "bin_end": 6.800000000000001,
            "count": 0
           },
           {
            "bin_start": 6.800000000000001,
            "bin_end": 7.6000000000000005,
            "count": 0
           },
           {
            "bin_start": 7.6000000000000005,
            "bin_end": 8.4,
            "count": 0
           },
           {
            "bin_start": 8.4,
            "bin_end": 9.2,
            "count": 1
           },
           {
            "bin_start": 9.2,
            "bin_end": 10,
            "count": 1
           }
          ]
         }
        },
        {
         "name": "OL1",
         "dtype": "int64",
         "stats": {
          "unique_count": 5,
          "nan_count": 0,
          "min": "1",
          "max": "44",
          "histogram": [
           {
            "bin_start": 1,
            "bin_end": 5.3,
            "count": 2
           },
           {
            "bin_start": 5.3,
            "bin_end": 9.6,
            "count": 0
           },
           {
            "bin_start": 9.6,
            "bin_end": 13.899999999999999,
            "count": 0
           },
           {
            "bin_start": 13.899999999999999,
            "bin_end": 18.2,
            "count": 1
           },
           {
            "bin_start": 18.2,
            "bin_end": 22.5,
            "count": 1
           },
           {
            "bin_start": 22.5,
            "bin_end": 26.799999999999997,
            "count": 0
           },
           {
            "bin_start": 26.799999999999997,
            "bin_end": 31.099999999999998,
            "count": 0
           },
           {
            "bin_start": 31.099999999999998,
            "bin_end": 35.4,
            "count": 0
           },
           {
            "bin_start": 35.4,
            "bin_end": 39.699999999999996,
            "count": 0
           },
           {
            "bin_start": 39.699999999999996,
            "bin_end": 44,
            "count": 1
           }
          ]
         }
        },
        {
         "name": "OL2",
         "dtype": "int64",
         "stats": {
          "unique_count": 4,
          "nan_count": 0,
          "min": "11",
          "max": "57",
          "histogram": [
           {
            "bin_start": 11,
            "bin_end": 15.6,
            "count": 1
           },
           {
            "bin_start": 15.6,
            "bin_end": 20.2,
            "count": 0
           },
           {
            "bin_start": 20.2,
            "bin_end": 24.799999999999997,
            "count": 3
           },
           {
            "bin_start": 24.799999999999997,
            "bin_end": 29.4,
            "count": 0
           },
           {
            "bin_start": 29.4,
            "bin_end": 34,
            "count": 0
           },
           {
            "bin_start": 34,
            "bin_end": 38.599999999999994,
            "count": 0
           },
           {
            "bin_start": 38.599999999999994,
            "bin_end": 43.199999999999996,
            "count": 0
           },
           {
            "bin_start": 43.199999999999996,
            "bin_end": 47.8,
            "count": 0
           },
           {
            "bin_start": 47.8,
            "bin_end": 52.4,
            "count": 0
           },
           {
            "bin_start": 52.4,
            "bin_end": 57,
            "count": 1
           }
          ]
         }
        },
        {
         "name": "TP",
         "dtype": "object",
         "stats": {
          "unique_count": 3,
          "nan_count": 0,
          "categories": [
           {
            "name": "pcu",
            "count": 3
           },
           {
            "name": "etb",
            "count": 1
           },
           {
            "name": "sra",
            "count": 1
           }
          ]
         }
        },
        {
         "name": "CO2/N2",
         "dtype": "float64",
         "stats": {
          "unique_count": 5,
          "nan_count": 0,
          "min": "19.26372569",
          "max": "33.61678033",
          "histogram": [
           {
            "bin_start": 19.26372569,
            "bin_end": 20.699031154,
            "count": 1
           },
           {
            "bin_start": 20.699031154,
            "bin_end": 22.134336618,
            "count": 0
           },
           {
            "bin_start": 22.134336618,
            "bin_end": 23.569642082,
            "count": 1
           },
           {
            "bin_start": 23.569642082,
            "bin_end": 25.004947546,
            "count": 0
           },
           {
            "bin_start": 25.004947546,
            "bin_end": 26.44025301,
            "count": 1
           },
           {
            "bin_start": 26.44025301,
            "bin_end": 27.875558473999998,
            "count": 0
           },
           {
            "bin_start": 27.875558473999998,
            "bin_end": 29.310863937999997,
            "count": 0
           },
           {
            "bin_start": 29.310863937999997,
            "bin_end": 30.746169402,
            "count": 1
           },
           {
            "bin_start": 30.746169402,
            "bin_end": 32.181474865999995,
            "count": 0
           },
           {
            "bin_start": 32.181474865999995,
            "bin_end": 33.61678033,
            "count": 1
           }
          ]
         }
        },
        {
         "name": "Heat",
         "dtype": "float64",
         "stats": {
          "unique_count": 5,
          "nan_count": 0,
          "min": "6.190085",
          "max": "7.147286",
          "histogram": [
           {
            "bin_start": 6.190085,
            "bin_end": 6.2858051,
            "count": 1
           },
           {
            "bin_start": 6.2858051,
            "bin_end": 6.3815252,
            "count": 1
           },
           {
            "bin_start": 6.3815252,
            "bin_end": 6.4772453,
            "count": 0
           },
           {
            "bin_start": 6.4772453,
            "bin_end": 6.5729654,
            "count": 1
           },
           {
            "bin_start": 6.5729654,
            "bin_end": 6.6686855000000005,
            "count": 0
           },
           {
            "bin_start": 6.6686855000000005,
            "bin_end": 6.7644056,
            "count": 0
           },
           {
            "bin_start": 6.7644056,
            "bin_end": 6.8601257,
            "count": 1
           },
           {
            "bin_start": 6.8601257,
            "bin_end": 6.9558458000000005,
            "count": 0
           },
           {
            "bin_start": 6.9558458000000005,
            "bin_end": 7.0515659,
            "count": 0
           },
           {
            "bin_start": 7.0515659,
            "bin_end": 7.147286,
            "count": 1
           }
          ]
         }
        },
        {
         "name": "CO2W",
         "dtype": "float64",
         "stats": {
          "unique_count": 5,
          "nan_count": 0,
          "min": "79.21000065588353",
          "max": "187.62600449626183",
          "histogram": [
           {
            "bin_start": 79.21000065588353,
            "bin_end": 90.05160103992137,
            "count": 1
           },
           {
            "bin_start": 90.05160103992137,
            "bin_end": 100.8932014239592,
            "count": 0
           },
           {
            "bin_start": 100.8932014239592,
            "bin_end": 111.73480180799702,
            "count": 2
           },
           {
            "bin_start": 111.73480180799702,
            "bin_end": 122.57640219203485,
            "count": 1
           },
           {
            "bin_start": 122.57640219203485,
            "bin_end": 133.4180025760727,
            "count": 0
           },
           {
            "bin_start": 133.4180025760727,
            "bin_end": 144.2596029601105,
            "count": 0
           },
           {
            "bin_start": 144.2596029601105,
            "bin_end": 155.10120334414833,
            "count": 0
           },
           {
            "bin_start": 155.10120334414833,
            "bin_end": 165.94280372818616,
            "count": 0
           },
           {
            "bin_start": 165.94280372818616,
            "bin_end": 176.784404112224,
            "count": 0
           },
           {
            "bin_start": 176.784404112224,
            "bin_end": 187.62600449626183,
            "count": 1
           }
          ]
         }
        },
        {
         "name": "_deepnote_index_column",
         "dtype": "int64"
        }
       ],
       "rows_top": [
        {
         "name": "mof_unit_1",
         "vol": 1116.667429,
         "weight": 875.2405999999999,
         "SA": 0,
         "VF": 0.07899,
         "VV": 0.0606999999999999,
         "FG": "COOH-OEt",
         "ML": 3,
         "OL1": 4,
         "OL2": 11,
         "TP": "pcu",
         "CO2/N2": 22.86416611,
         "Heat": 6.786041,
         "CO2W": 105.2845017241596,
         "_deepnote_index_column": 0
        },
        {
         "name": "mof_unit_2",
         "vol": 2769.503842,
         "weight": 2211.697211,
         "SA": 603.61,
         "VF": 0.13794,
         "VV": 0.104,
         "FG": "F-OMe",
         "ML": 10,
         "OL1": 44,
         "OL2": 57,
         "TP": "etb",
         "CO2/N2": 33.61678033,
         "Heat": 7.147286,
         "CO2W": 101.22477417834172,
         "_deepnote_index_column": 1
        },
        {
         "name": "mof_unit_3",
         "vol": 1089.818728,
         "weight": 773.68796,
         "SA": 788.5,
         "VF": 0.14874,
         "VV": 0.1262,
         "FG": "OMe-COOH",
         "ML": 2,
         "OL1": 22,
         "OL2": 24,
         "TP": "pcu",
         "CO2/N2": 19.26372569,
         "Heat": 6.347967,
         "CO2W": 118.98701074687752,
         "_deepnote_index_column": 2
        },
        {
         "name": "mof_unit_4",
         "vol": 2205.1983010000004,
         "weight": 1304.63872,
         "SA": 1441.53,
         "VF": 0.21814,
         "VV": 0.222,
         "FG": "H-SO3H",
         "ML": 9,
         "OL1": 17,
         "OL2": 24,
         "TP": "sra",
         "CO2/N2": 25.70137692,
         "Heat": 6.190085,
         "CO2W": 187.62600449626183,
         "_deepnote_index_column": 3
        },
        {
         "name": "mof_unit_5",
         "vol": 1137.800963,
         "weight": 901.73612,
         "SA": 0,
         "VF": 0.07778,
         "VV": 0.0591,
         "FG": "NHMe-OH",
         "ML": 2,
         "OL1": 1,
         "OL2": 22,
         "TP": "pcu",
         "CO2/N2": 30.00183795,
         "Heat": 6.478063,
         "CO2W": 79.21000065588353,
         "_deepnote_index_column": 4
        }
       ],
       "rows_bottom": null
      },
      "text/plain": "         name          vol       weight       SA       VF      VV        FG  \\\n0  mof_unit_1  1116.667429   875.240600     0.00  0.07899  0.0607  COOH-OEt   \n1  mof_unit_2  2769.503842  2211.697211   603.61  0.13794  0.1040     F-OMe   \n2  mof_unit_3  1089.818728   773.687960   788.50  0.14874  0.1262  OMe-COOH   \n3  mof_unit_4  2205.198301  1304.638720  1441.53  0.21814  0.2220    H-SO3H   \n4  mof_unit_5  1137.800963   901.736120     0.00  0.07778  0.0591   NHMe-OH   \n\n   ML  OL1  OL2   TP     CO2/N2      Heat        CO2W  \n0   3    4   11  pcu  22.864166  6.786041  105.284502  \n1  10   44   57  etb  33.616780  7.147286  101.224774  \n2   2   22   24  pcu  19.263726  6.347967  118.987011  \n3   9   17   24  sra  25.701377  6.190085  187.626004  \n4   2    1   22  pcu  30.001838  6.478063   79.210001  ",
      "text/html": "<div>\n<style scoped>\n    .dataframe tbody tr th:only-of-type {\n        vertical-align: middle;\n    }\n\n    .dataframe tbody tr th {\n        vertical-align: top;\n    }\n\n    .dataframe thead th {\n        text-align: right;\n    }\n</style>\n<table border=\"1\" class=\"dataframe\">\n  <thead>\n    <tr style=\"text-align: right;\">\n      <th></th>\n      <th>name</th>\n      <th>vol</th>\n      <th>weight</th>\n      <th>SA</th>\n      <th>VF</th>\n      <th>VV</th>\n      <th>FG</th>\n      <th>ML</th>\n      <th>OL1</th>\n      <th>OL2</th>\n      <th>TP</th>\n      <th>CO2/N2</th>\n      <th>Heat</th>\n      <th>CO2W</th>\n    </tr>\n  </thead>\n  <tbody>\n    <tr>\n      <th>0</th>\n      <td>mof_unit_1</td>\n      <td>1116.667429</td>\n      <td>875.240600</td>\n      <td>0.00</td>\n      <td>0.07899</td>\n      <td>0.0607</td>\n      <td>COOH-OEt</td>\n      <td>3</td>\n      <td>4</td>\n      <td>11</td>\n      <td>pcu</td>\n      <td>22.864166</td>\n      <td>6.786041</td>\n      <td>105.284502</td>\n    </tr>\n    <tr>\n      <th>1</th>\n      <td>mof_unit_2</td>\n      <td>2769.503842</td>\n      <td>2211.697211</td>\n      <td>603.61</td>\n      <td>0.13794</td>\n      <td>0.1040</td>\n      <td>F-OMe</td>\n      <td>10</td>\n      <td>44</td>\n      <td>57</td>\n      <td>etb</td>\n      <td>33.616780</td>\n      <td>7.147286</td>\n      <td>101.224774</td>\n    </tr>\n    <tr>\n      <th>2</th>\n      <td>mof_unit_3</td>\n      <td>1089.818728</td>\n      <td>773.687960</td>\n      <td>788.50</td>\n      <td>0.14874</td>\n      <td>0.1262</td>\n      <td>OMe-COOH</td>\n      <td>2</td>\n      <td>22</td>\n      <td>24</td>\n      <td>pcu</td>\n      <td>19.263726</td>\n      <td>6.347967</td>\n      <td>118.987011</td>\n    </tr>\n    <tr>\n      <th>3</th>\n      <td>mof_unit_4</td>\n      <td>2205.198301</td>\n      <td>1304.638720</td>\n      <td>1441.53</td>\n      <td>0.21814</td>\n      <td>0.2220</td>\n      <td>H-SO3H</td>\n      <td>9</td>\n      <td>17</td>\n      <td>24</td>\n      <td>sra</td>\n      <td>25.701377</td>\n      <td>6.190085</td>\n      <td>187.626004</td>\n    </tr>\n    <tr>\n      <th>4</th>\n      <td>mof_unit_5</td>\n      <td>1137.800963</td>\n      <td>901.736120</td>\n      <td>0.00</td>\n      <td>0.07778</td>\n      <td>0.0591</td>\n      <td>NHMe-OH</td>\n      <td>2</td>\n      <td>1</td>\n      <td>22</td>\n      <td>pcu</td>\n      <td>30.001838</td>\n      <td>6.478063</td>\n      <td>79.210001</td>\n    </tr>\n  </tbody>\n</table>\n</div>"
     },
     "metadata": {}
    }
   ],
   "execution_count": null
  },
  {
   "cell_type": "code",
   "source": "# df[df['Heat'] == 'inf']\n# df[df['SA'] < 0]\n# df[df['VV'] == 0]\n# df.isin([np.inf, -np.inf]).sum()\n# df.head()\ndf.insert(\n    loc=3,\n    column=\"density [g/cm^3]\",\n    value=(df[\"weight\"] / df[\"vol\"]) * 1.66054,\n)",
   "metadata": {
    "tags": [],
    "cell_id": "00007-235a58bf-77d8-4e0b-b815-0d05d60f8bf1",
    "deepnote_to_be_reexecuted": false,
    "source_hash": "a68e98e2",
    "execution_start": 1632411380506,
    "execution_millis": 0,
    "deepnote_cell_type": "code"
   },
   "outputs": [],
   "execution_count": null
  },
  {
   "cell_type": "code",
   "source": "# default global numbers\nE = 1e-3\nPI = np.pi\nangstrom = 1e-10\n\nvdw_radii = {'H': 1.1, 'He': 1.4, 'Li': 1.82, 'Be': 1.53, 'B': 1.92, 'C': 1.7, 'N': 1.55, \n            'O': 1.52, 'F': 1.47, 'Ne': 1.54, 'Na': 2.27, 'Mg': 1.73, 'Al': 1.84, 'Si': 2.1, \n            'P': 1.8, 'S': 1.8, 'Cl': 1.75, 'Ar': 1.88, 'K': 2.75, 'Ca': 2.31, 'Sc': 2.15, 'Ti': 2.11, \n            'V': 2.07, 'Cr': 2.06, 'Mn': 2.05, 'Fe': 2.04, 'Co': 2.0, 'Ni': 1.97, 'Cu': 1.96, 'Zn': 2.01, \n            'Ga': 1.87, 'Ge': 2.11, 'As': 1.85, 'Se': 1.9, 'Br': 1.85, 'Kr': 2.02, 'Rb': 3.03, 'Sr': 2.49, \n            'Y': 2.32, 'Zr': 2.23, 'Nb': 2.18, 'Mo': 2.17, 'Tc': 2.16, 'Ru': 2.13, 'Rh': 2.1, 'Pd': 2.1, \n            'Ag': 2.11, 'Cd': 2.18, 'In': 1.93, 'Sn': 2.17, 'Sb': 2.06, 'Te': 2.06, 'I': 1.98, 'Xe': 2.16, \n            'Cs': 3.43, 'Ba': 2.68, 'La': 2.43, 'Ce': 2.42, 'Pr': 2.4, 'Nd': 2.39, 'Pm': 2.38, 'Sm': 2.36, \n            'Eu': 2.35, 'Gd': 2.34, 'Tb': 2.33, 'Dy': 2.31, 'Ho': 2.3, 'Er': 2.29, 'Tm': 2.27, 'Yb': 2.26, \n            'Lu': 2.24, 'Hf': 2.23, 'Ta': 2.22, 'W': 2.18, 'Re': 2.16, 'Os': 2.16, 'Ir': 2.13, 'Pt': 2.13,\n            'Au': 2.14, 'Hg': 2.23, 'Tl': 1.96, 'Pb': 2.02, 'Bi': 2.07, 'Po': 1.97, 'At': 2.02, 'Rn': 2.2, \n            'Fr': 3.48, 'Ra': 2.83, 'Ac': 2.47, 'Th': 2.45, 'Pa': 2.43, 'U': 2.41, 'Np': 2.39, 'Pu': 2.43, \n            'Am': 2.44, 'Cm': 2.45, 'Bk': 2.44, 'Cf': 2.45, 'Es': 2.45, 'Fm': 2.45, 'Md': 2.46, 'No': 2.46, \n            'Lr': 2.46}",
   "metadata": {
    "tags": [],
    "cell_id": "00012-8c456d17-f7b6-44f6-8e8a-010176174ac4",
    "deepnote_to_be_reexecuted": false,
    "source_hash": "db3d0d43",
    "execution_start": 1632411466182,
    "execution_millis": 0,
    "deepnote_cell_type": "code"
   },
   "outputs": [],
   "execution_count": null
  },
  {
   "cell_type": "code",
   "source": "def get_box_parameters(cifname):\n    \"\"\"\n    ดึงข้อมูลพารามิเตอร์ของ Unit Cell ของ MOF\n\n    cifname : CIF file\n    \"\"\"\n    content = open(cifname, 'r').readlines()\n    for line in content:\n        if \"_cell_length_a\" in line:\n            a = float(line.split()[1])\n        if \"_cell_length_b\" in line:\n            b = float(line.split()[1])\n        if \"_cell_length_c\" in line:\n            c = float(line.split()[1])\n        if \"_cell_angle_alpha\" in line:\n            alpha_r = float(line.split()[1]) * PI / 180.0\n        if \"_cell_angle_beta\" in line:\n            beta_r = float(line.split()[1]) * PI / 180.0\n        if \"_cell_angle_gamma\" in line:\n            gamma_r = float(line.split()[1]) * PI / 180.0\n\n    return a, b, c, alpha_r, beta_r, gamma_r",
   "metadata": {
    "tags": [],
    "cell_id": "00009-280751cf-d8fa-47d7-b364-45691e93b010",
    "deepnote_to_be_reexecuted": false,
    "source_hash": "4f1ba0f5",
    "execution_start": 1632411482665,
    "execution_millis": 1,
    "deepnote_cell_type": "code"
   },
   "outputs": [],
   "execution_count": null
  },
  {
   "cell_type": "code",
   "source": "def get_box_matrix(cifname):\n    \"\"\"\n    คำนวณ Unit Cell Matrix \n\n    cifname : CIF file\n    \"\"\"\n    a, b, c, alpha_r, beta_r, gamma_r = get_box_parameters(cifname)\n\n    a_x = a\n    a_y = 0.0\n    a_z = 0.0\n    b_x = b * np.cos(gamma_r)\n    b_y = b * np.sin(gamma_r)\n    b_z = 0.0\n    c_x = c * np.cos(beta_r)\n    c_y = (b * c * np.cos(alpha_r) - b_x * c_x) / b_y\n    c_z = np.sqrt(c**2 - c_x**2 - c_y**2)\n\n    cell_matrix = np.matrix([\n        [a_x, a_y, a_z], \n        [b_x, b_y, b_z], \n        [c_x, c_y, c_z]], \n        dtype=float)\n\n    crs = np.cross([b_x, b_y, b_z], [c_x, c_y, c_z])\n    inverse_matrix = cell_matrix.I\n    unit_cell_volume = a_x * crs[0] + a_y * crs[1] + a_z * crs[2]\n    \n    return cell_matrix, inverse_matrix, unit_cell_volume",
   "metadata": {
    "tags": [],
    "cell_id": "00010-59a0ad02-0298-431a-9ae2-f47f12bcb104",
    "deepnote_to_be_reexecuted": false,
    "source_hash": "fe7dbeb6",
    "execution_start": 1632411490824,
    "execution_millis": 3,
    "deepnote_cell_type": "code"
   },
   "outputs": [],
   "execution_count": null
  },
  {
   "cell_type": "code",
   "source": "def get_atomic_coordinates(cifname):\n    \"\"\"\n    ดึงข้อมูล atomic symbol และ Cartesian coordinates\n    \"\"\"\n    ase_atoms = read(cifname) \n    return ase_atoms.get_chemical_symbols(), ase_atoms.get_positions()",
   "metadata": {
    "tags": [],
    "cell_id": "00011-0ad0f05d-1bfc-4923-880a-cc954f90e78d",
    "deepnote_to_be_reexecuted": false,
    "source_hash": "fb12e819",
    "execution_start": 1632411498162,
    "execution_millis": 4,
    "deepnote_cell_type": "code"
   },
   "outputs": [],
   "execution_count": null
  },
  {
   "cell_type": "code",
   "source": "def RandomNumberOnUnitSphere():\n\tthetha = 0.0\n\tphi = 0.0\n\ttheta = 2*PI*np.random.random_sample()\n\tphi = np.arccos(2*np.random.random_sample()-1.0)\n\tx = np.cos(theta)*np.sin(phi)\n\ty = np.sin(theta)*np.sin(phi)\n\tz = np.cos(phi)\n\t\n\treturn x,y,z",
   "metadata": {
    "tags": [],
    "cell_id": "00012-b8ec1071-0cf8-41cd-bc3d-413d628ea06d",
    "deepnote_to_be_reexecuted": false,
    "source_hash": "f76d75e8",
    "execution_start": 1632411506489,
    "execution_millis": 3,
    "deepnote_cell_type": "code"
   },
   "outputs": [],
   "execution_count": null
  },
  {
   "cell_type": "code",
   "source": "def _dot_product(unit_cell_matrix, atom_positions):\n    s_x = unit_cell_matrix.item(0) * atom_positions[0] + unit_cell_matrix.item(3) * atom_positions[1] + unit_cell_matrix.item(6) * atom_positions[2]\n    s_y = unit_cell_matrix.item(1) * atom_positions[0] + unit_cell_matrix.item(4) * atom_positions[1] + unit_cell_matrix.item(7) * atom_positions[2]\n    s_z = unit_cell_matrix.item(2) * atom_positions[0] + unit_cell_matrix.item(5) * atom_positions[1] + unit_cell_matrix.item(8) * atom_positions[2]\n    new_coord = np.array([s_x, s_y, s_z], float)\n    \n    return new_coord",
   "metadata": {
    "tags": [],
    "cell_id": "00013-5243e1d0-a2b3-41f9-851f-b3d13fb66d9c",
    "deepnote_to_be_reexecuted": false,
    "source_hash": "3c5f7dd6",
    "execution_start": 1632411511896,
    "execution_millis": 1,
    "deepnote_cell_type": "code"
   },
   "outputs": [],
   "execution_count": null
  },
  {
   "cell_type": "code",
   "source": "def ApplyBoundaryConditions(vec2, pos, cell_matrix):\n\tw = [0,0,0]\n\tx = [0,0,0]\n\tvec2 = copy.deepcopy(np.asarray(vec2))\n\tinverse_matrix2 = copy.deepcopy(np.asarray(inverse_matrix))\n\tfractional = _dot_product(inverse_matrix, vec2)\n\t# apply boundary conditions\n\tx[0] = fractional[0] - np.rint(fractional[0])\n\tx[1] = fractional[1] - np.rint(fractional[1])\n\tx[2] = fractional[2] - np.rint(fractional[2])\n\tcartesian = _dot_product(cell_matrix,x)\n\t\n\treturn cartesian",
   "metadata": {
    "tags": [],
    "cell_id": "00014-72a898b5-7bc4-4bce-9570-1918c18d4eca",
    "deepnote_to_be_reexecuted": false,
    "source_hash": "7c9dd37f",
    "execution_start": 1632411520729,
    "execution_millis": 3,
    "deepnote_cell_type": "code"
   },
   "outputs": [],
   "execution_count": null
  },
  {
   "cell_type": "code",
   "source": "def CheckSurfaceAreaOverlap(pAtom, pos, cell_matrix, atom_type, vdW_pAtom, fAtom_b):\n\t\"\"\"\n\tตรวจสอบว่า Probe กับอะตอมซ้อนทับกันไหม\n\t\"\"\"\n\twell_depth_factor = 1.0\n\tfAtom_o = [0,0,0]\n\tdistance = [0,0,0]\n\t# start enumerating all atoms in the object\n\tfor i, elem in enumerate(pos):\n\t\tfAtom_o = copy.deepcopy(elem)\n\t\tif not np.array_equal(fAtom_o,fAtom_b):\n\t\t\tvdW_fAtom = vdw_radii.get(atom_type[i])\n\t\t\tequilibrium_distance = well_depth_factor * 0.5 * (vdW_pAtom + vdW_fAtom)\n\t\t\tfAtom_o = _dot_product(cell_matrix,fAtom_o)\n\t\t\tdistance[0] = pAtom[0] - fAtom_o[0]\n\t\t\tdistance[1] = pAtom[1] - fAtom_o[1]\n\t\t\tdistance[2] = pAtom[2] - fAtom_o[2]\n\t\t\tdr = ApplyBoundaryConditions(distance, pos, cell_matrix)\n\t\t\trr = (dr[0] * dr[0]) + (dr[1] * dr[1]) + (dr[2] * dr[2])\n\t\t\tif rr < (equilibrium_distance * equilibrium_distance):\n\t\t\t\treturn True\n\t\t\t\t\n\treturn False",
   "metadata": {
    "tags": [],
    "cell_id": "00015-71b721f5-481c-4c52-b0d4-66bb656dc6c0",
    "deepnote_to_be_reexecuted": false,
    "source_hash": "e72ad6da",
    "execution_start": 1632411531927,
    "execution_millis": 5,
    "deepnote_cell_type": "code"
   },
   "outputs": [],
   "execution_count": null
  },
  {
   "cell_type": "code",
   "source": "def gsa(atom_type, pos, cell_matrix, inverse_matrix, unit_cell_volume, probe_diameter=1.0, nSample=20, equilibrium_distance=0.0, InsertTypeOfAtoms=None):\n\t\n\t\"\"\"\n\tComputes geometric surface area (GSA) of atoms. Return GSA in m^2/cm^3.\n\n\tatom_type : type of atom\n\tpos : coordinates\n\tcell_matrix : Crystall cell matrix (A, B, C)\n\tinverse_matrix: Inverse of crystall cell matrix\n\tprobe_diameter : Diameter of a probe\n\tnSample : Number of sample probes\n\tequilibrium_distance = Equilibrium distance upon probe and atom in structure\n\tInsertTypeOfAtoms = Type of atom insert\n\t\"\"\"\n\ttotal = 0.0\n\tcounted = 0.0\n\tvec = []\n\texamined_coordinates = []\n\tSurfaceAreaAverage = 0.0\n\twell_depth_factor = 1.0\n\t\n\t# start enumerating all atoms in the framework\n\tfor i, elem in enumerate(atom_type):\n\t\ttotal=0.0\n\t\tcounted=0.0\n\t\tif np.linalg.norm([pos[i][0], pos[i][1], pos[i][2]]) not in examined_coordinates:\n\t\t\t# check atomType to see if we want to insert probes around the atom\n\t\t\tif InsertTypeOfAtoms is atom_type[i]:\n\t\t\t\tvdW_fAtom = vdw_radii.get(elem)\n\t\t\t\t# Lorentz rule of mixing hard spheres \n\t\t\t\tequilibrium_distance = well_depth_factor * (0.5 * (probe_diameter + vdW_fAtom))\n\t\t\t\t# start MC sampling for a given #\n\t\t\t\tfor attempt in range(nSample):\n\t\t\t\t\tpAtom = np.array([0.0, 0.0, 0.0], float)\n\t\t\t\t\ttotal += 1\n\t\t\t\t\t# find a random number around the sphere\n\t\t\t\t\tvec = RandomNumberOnUnitSphere()\n\t\t\t\t\t# calculate the coordinates of the center of probe using vec and equilibrium distance\n\t\t\t\t\tpAtom[0] = pos[i][0]+vec[0]*equilibrium_distance\n\t\t\t\t\tpAtom[1] = pos[i][1]+vec[1]*equilibrium_distance\n\t\t\t\t\tpAtom[2] = pos[i][2]+vec[2]*equilibrium_distance\n\t\t\t\t\t# store the x,y,z coordinates of probe in an array\n\t\t\t\t\tvec2 = np.array([pAtom[0], pAtom[1], pAtom[2]])\n\t\t\t\t\t# check for the overlap between probe and the other framework atoms\n\t\t\t\t\toverlap = CheckSurfaceAreaOverlap(pAtom, pos, cell_matrix, atom_type, probe_diameter, pos[i])\n\t\t\t\t\tif not overlap:\n\t\t\t\t\t\tcounted += 1\n\n\t\t\t\t# print(\"fraction of insertion near\", atom_type[i], \"is\", counted/total)\n\t\t\t\ttmp = (counted/total)*4.0*PI*(equilibrium_distance * equilibrium_distance)\n\n\t\t\t\tSurfaceAreaAverage += tmp\n\t\t\t\ttmp2 = np.array([pos[i][0], pos[i][1], pos[i][2]])\n\t\t\t\texamined_coordinates.append(np.linalg.norm(tmp2))\n\n\t# print (\"Surface Area in Ang^2: \", SurfaceAreaAverage)\n\t# print (\"volume of unit cell: \", unit_cell_volume)\n\t# print (\"Surface Area in m^2/cm^3: \", 1e4*SurfaceAreaAverage/unit_cell_volume)\n\t\n\treturn 1e4*SurfaceAreaAverage/unit_cell_volume",
   "metadata": {
    "tags": [],
    "cell_id": "00016-3f42cb32-3ef2-4d75-83ea-c2d02b2b1143",
    "deepnote_to_be_reexecuted": false,
    "source_hash": "b9755a7e",
    "execution_start": 1632411541296,
    "execution_millis": 3,
    "deepnote_cell_type": "code"
   },
   "outputs": [],
   "execution_count": null
  },
  {
   "cell_type": "code",
   "source": "def vsa(atom_type, pos, cell_matrix, unit_cell_volume, probe_diameter=1.0, nSample=20, total=0, equilibrium_distance=0.0):\n\t\"\"\"\n\tComputes the volumetric surface area (VSA) of atoms. Return VSA in m^2/cm3.\n\n\tatom_type : type of atom\n\tpos : coordinates\n\tcell_matrix : Crystall cell matrix (A, B, C)\n\tprobe_diameter : Diameter of a probe\n\tnSample : Number of sample probes\n\tequilibrium_distance = Equilibrium distance upon probe and atom in structure\n\t\"\"\"\n\tcounted = 0.0\n\tvec = np.zeros((1,3), float)\n\tSurfaceAreaAverage = 0.0\n\twell_depth_factor = 1.0\n\tfractional_list = []\n\n\t# start enumerating all atoms in the framework\n\tfor i, elem in enumerate(atom_type):\n\t\ttotal = 0.0\n\t\tcounted = 0.0\n\t\tvdW_fAtom = vdw_radii.get(elem)\n\t\t# Lorentz rule of mixing hard spheres \n\t\tequilibrium_distance = well_depth_factor * 0.5 * (probe_diameter + vdW_fAtom)\n\n\t\t# start MC sampling for a given #\n\t\tfor attempt in range(nSample):\n\t\t\tpAtom = np.array([0.0, 0.0, 0.0], float)\n\t\t\ttotal += 1\n\t\t\t# find a random number around the sphere\n\t\t\tvec = RandomNumberOnUnitSphere()\n\t\t\t# calculate the coordinates of the center of probe using vec and equilibrium distance\n\t\t\tfAtom_xyz = _dot_product(cell_matrix, pos[i])\n\t\t\tpAtom[0] = fAtom_xyz[0] + vec[0]*equilibrium_distance\n\t\t\tpAtom[1] = fAtom_xyz[1] + vec[1]*equilibrium_distance\n\t\t\tpAtom[2] = fAtom_xyz[2] + vec[2]*equilibrium_distance\n\n\t\t\t# check for the overlap between probe and the other framework atoms\n\t\t\toverlap = CheckSurfaceAreaOverlap(pAtom, pos, cell_matrix, atom_type, probe_diameter, pos[i])\n\t\t\tif not overlap:\n\t\t\t\tcounted += 1\n\n\t\ttmp = (counted/total)*4.0*PI*(equilibrium_distance * equilibrium_distance)\n\n\t\tSurfaceAreaAverage += tmp\n\t\tfractional_list.append([elem[0], counted / total, tmp, 1.0e4*tmp/unit_cell_volume])\n\t\t# print(i, \" out of \", len(atom_type))\n\n\t# fractional_list.sort(key=itemgetter(0))\n\n\t# file_out = open('freq.txt', 'w')\n\t# for index, items in groupby(fractional_list, itemgetter(0)):\n\t# \tsum_area = 0.0\n\t# \tfor atom in items:\n\t# \t\tsum_area += atom[2]\n\t# \t\tfile_out.write('\\t'.join(str(i) for i in atom) + '\\n')\n\n\treturn 1.0e4*SurfaceAreaAverage/unit_cell_volume",
   "metadata": {
    "tags": [],
    "cell_id": "00017-625e51ac-bcce-459e-97b2-8a274826c5e7",
    "deepnote_to_be_reexecuted": false,
    "source_hash": "3738be48",
    "execution_start": 1632411551155,
    "execution_millis": 1,
    "deepnote_cell_type": "code"
   },
   "outputs": [],
   "execution_count": null
  },
  {
   "cell_type": "code",
   "source": "df[df['SA'] == 0]",
   "metadata": {
    "tags": [],
    "cell_id": "00018-671974eb-dbf3-4bcb-80fa-a1be7abec10f",
    "deepnote_to_be_reexecuted": false,
    "source_hash": "3a127c8c",
    "execution_start": 1632412094358,
    "execution_millis": 95,
    "deepnote_cell_type": "code"
   },
   "outputs": [
    {
     "output_type": "execute_result",
     "execution_count": 55,
     "data": {
      "application/vnd.deepnote.dataframe.v2+json": {
       "row_count": 14483,
       "column_count": 15,
       "columns": [
        {
         "name": "name",
         "dtype": "object",
         "stats": {
          "unique_count": 14483,
          "nan_count": 0,
          "categories": [
           {
            "name": "mof_unit_1",
            "count": 1
           },
           {
            "name": "mof_unit_5",
            "count": 1
           },
           {
            "name": "14481 others",
            "count": 14481
           }
          ]
         }
        },
        {
         "name": "vol",
         "dtype": "float64",
         "stats": {
          "unique_count": 14483,
          "nan_count": 0,
          "min": "614.664846",
          "max": "21059.746018",
          "histogram": [
           {
            "bin_start": 614.664846,
            "bin_end": 2659.1729632,
            "count": 12348
           },
           {
            "bin_start": 2659.1729632,
            "bin_end": 4703.681080400001,
            "count": 1767
           },
           {
            "bin_start": 4703.681080400001,
            "bin_end": 6748.189197600001,
            "count": 214
           },
           {
            "bin_start": 6748.189197600001,
            "bin_end": 8792.697314800002,
            "count": 89
           },
           {
            "bin_start": 8792.697314800002,
            "bin_end": 10837.205432,
            "count": 26
           },
           {
            "bin_start": 10837.205432,
            "bin_end": 12881.713549200002,
            "count": 14
           },
           {
            "bin_start": 12881.713549200002,
            "bin_end": 14926.2216664,
            "count": 8
           },
           {
            "bin_start": 14926.2216664,
            "bin_end": 16970.729783600003,
            "count": 3
           },
           {
            "bin_start": 16970.729783600003,
            "bin_end": 19015.237900800003,
            "count": 7
           },
           {
            "bin_start": 19015.237900800003,
            "bin_end": 21059.746018,
            "count": 7
           }
          ]
         }
        },
        {
         "name": "weight",
         "dtype": "float64",
         "stats": {
          "unique_count": 12779,
          "nan_count": 0,
          "min": "453.35086",
          "max": "20647.79776",
          "histogram": [
           {
            "bin_start": 453.35086,
            "bin_end": 2472.7955500000003,
            "count": 12287
           },
           {
            "bin_start": 2472.7955500000003,
            "bin_end": 4492.240240000001,
            "count": 1904
           },
           {
            "bin_start": 4492.240240000001,
            "bin_end": 6511.684930000001,
            "count": 224
           },
           {
            "bin_start": 6511.684930000001,
            "bin_end": 8531.129620000002,
            "count": 44
           },
           {
            "bin_start": 8531.129620000002,
            "bin_end": 10550.574310000002,
            "count": 9
           },
           {
            "bin_start": 10550.574310000002,
            "bin_end": 12570.019000000002,
            "count": 5
           },
           {
            "bin_start": 12570.019000000002,
            "bin_end": 14589.463690000002,
            "count": 4
           },
           {
            "bin_start": 14589.463690000002,
            "bin_end": 16608.90838,
            "count": 1
           },
           {
            "bin_start": 16608.90838,
            "bin_end": 18628.35307,
            "count": 4
           },
           {
            "bin_start": 18628.35307,
            "bin_end": 20647.79776,
            "count": 1
           }
          ]
         }
        },
        {
         "name": "density [g/cm^3]",
         "dtype": "float64",
         "stats": {
          "unique_count": 14483,
          "nan_count": 0,
          "min": "0.7379850177948827",
          "max": "4.327543830548863",
          "histogram": [
           {
            "bin_start": 0.7379850177948827,
            "bin_end": 1.0969408990702807,
            "count": 2290
           },
           {
            "bin_start": 1.0969408990702807,
            "bin_end": 1.4558967803456788,
            "count": 7521
           },
           {
            "bin_start": 1.4558967803456788,
            "bin_end": 1.8148526616210767,
            "count": 3260
           },
           {
            "bin_start": 1.8148526616210767,
            "bin_end": 2.1738085428964746,
            "count": 1001
           },
           {
            "bin_start": 2.1738085428964746,
            "bin_end": 2.5327644241718725,
            "count": 243
           },
           {
            "bin_start": 2.5327644241718725,
            "bin_end": 2.891720305447271,
            "count": 93
           },
           {
            "bin_start": 2.891720305447271,
            "bin_end": 3.250676186722669,
            "count": 43
           },
           {
            "bin_start": 3.250676186722669,
            "bin_end": 3.6096320679980667,
            "count": 25
           },
           {
            "bin_start": 3.6096320679980667,
            "bin_end": 3.9685879492734646,
            "count": 5
           },
           {
            "bin_start": 3.9685879492734646,
            "bin_end": 4.327543830548863,
            "count": 2
           }
          ]
         }
        },
        {
         "name": "SA",
         "dtype": "float64",
         "stats": {
          "unique_count": 1,
          "nan_count": 0,
          "min": "0.0",
          "max": "0.0",
          "histogram": [
           {
            "bin_start": -0.5,
            "bin_end": -0.4,
            "count": 0
           },
           {
            "bin_start": -0.4,
            "bin_end": -0.3,
            "count": 0
           },
           {
            "bin_start": -0.3,
            "bin_end": -0.19999999999999996,
            "count": 0
           },
           {
            "bin_start": -0.19999999999999996,
            "bin_end": -0.09999999999999998,
            "count": 0
           },
           {
            "bin_start": -0.09999999999999998,
            "bin_end": 0,
            "count": 0
           },
           {
            "bin_start": 0,
            "bin_end": 0.10000000000000009,
            "count": 14483
           },
           {
            "bin_start": 0.10000000000000009,
            "bin_end": 0.20000000000000007,
            "count": 0
           },
           {
            "bin_start": 0.20000000000000007,
            "bin_end": 0.30000000000000004,
            "count": 0
           },
           {
            "bin_start": 0.30000000000000004,
            "bin_end": 0.4,
            "count": 0
           },
           {
            "bin_start": 0.4,
            "bin_end": 0.5,
            "count": 0
           }
          ]
         }
        },
        {
         "name": "VF",
         "dtype": "float64",
         "stats": {
          "unique_count": 8251,
          "nan_count": 0,
          "min": "0.0",
          "max": "0.4260599999999999",
          "histogram": [
           {
            "bin_start": 0,
            "bin_end": 0.04260599999999999,
            "count": 3723
           },
           {
            "bin_start": 0.04260599999999999,
            "bin_end": 0.08521199999999998,
            "count": 3731
           },
           {
            "bin_start": 0.08521199999999998,
            "bin_end": 0.127818,
            "count": 3940
           },
           {
            "bin_start": 0.127818,
            "bin_end": 0.17042399999999996,
            "count": 2235
           },
           {
            "bin_start": 0.17042399999999996,
            "bin_end": 0.21302999999999994,
            "count": 618
           },
           {
            "bin_start": 0.21302999999999994,
            "bin_end": 0.255636,
            "count": 173
           },
           {
            "bin_start": 0.255636,
            "bin_end": 0.29824199999999995,
            "count": 45
           },
           {
            "bin_start": 0.29824199999999995,
            "bin_end": 0.34084799999999993,
            "count": 12
           },
           {
            "bin_start": 0.34084799999999993,
            "bin_end": 0.3834539999999999,
            "count": 5
           },
           {
            "bin_start": 0.3834539999999999,
            "bin_end": 0.4260599999999999,
            "count": 1
           }
          ]
         }
        },
        {
         "name": "VV",
         "dtype": "float64"
        },
        {
         "name": "FG",
         "dtype": "object"
        },
        {
         "name": "ML",
         "dtype": "int64"
        },
        {
         "name": "OL1",
         "dtype": "int64"
        },
        {
         "name": "OL2",
         "dtype": "int64"
        },
        {
         "name": "TP",
         "dtype": "object"
        },
        {
         "name": "CO2/N2",
         "dtype": "float64"
        },
        {
         "name": "Heat",
         "dtype": "float64"
        },
        {
         "name": "CO2W",
         "dtype": "float64"
        },
        {
         "name": "_deepnote_index_column",
         "dtype": "int64"
        }
       ],
       "rows_top": [
        {
         "name": "mof_unit_1",
         "vol": 1116.667429,
         "weight": 875.2405999999999,
         "density [g/cm^3]": 1.3015262988601055,
         "SA": 0,
         "VF": 0.07899,
         "VV": 0.0606999999999999,
         "FG": "COOH-OEt",
         "ML": 3,
         "OL1": 4,
         "OL2": 11,
         "TP": "pcu",
         "CO2/N2": 22.86416611,
         "Heat": 6.786041,
         "CO2W": 105.2845017241596,
         "_deepnote_index_column": 0
        },
        {
         "name": "mof_unit_5",
         "vol": 1137.800963,
         "weight": 901.73612,
         "density [g/cm^3]": 1.3160200644906643,
         "SA": 0,
         "VF": 0.07778,
         "VV": 0.0591,
         "FG": "NHMe-OH",
         "ML": 2,
         "OL1": 1,
         "OL2": 22,
         "TP": "pcu",
         "CO2/N2": 30.00183795,
         "Heat": 6.478063,
         "CO2W": 79.21000065588353,
         "_deepnote_index_column": 4
        },
        {
         "name": "mof_unit_12",
         "vol": 1175.47586,
         "weight": 1397.05128,
         "density [g/cm^3]": 1.9735492760278375,
         "SA": 0,
         "VF": 0.05704,
         "VV": 0.0288999999999999,
         "FG": "Me-Br",
         "ML": 2,
         "OL1": 22,
         "OL2": 24,
         "TP": "pcu",
         "CO2/N2": 58.10697445,
         "Heat": 7.4078979999999985,
         "CO2W": 101.96481234318138,
         "_deepnote_index_column": 11
        },
        {
         "name": "mof_unit_14",
         "vol": 1071.619874,
         "weight": 701.6286,
         "density [g/cm^3]": 1.087216076998587,
         "SA": 0,
         "VF": 0.10455,
         "VV": 0.0961999999999999,
         "FG": "OEt-CN",
         "ML": 2,
         "OL1": 12,
         "OL2": 22,
         "TP": "pcu",
         "CO2/N2": 31.66445559,
         "Heat": 7.427183,
         "CO2W": 133.3711208364308,
         "_deepnote_index_column": 13
        },
        {
         "name": "mof_unit_20",
         "vol": 919.305781,
         "weight": 689.1744,
         "density [g/cm^3]": 1.2448541952288668,
         "SA": 0,
         "VF": 0.0781599999999999,
         "VV": 0.0627999999999999,
         "FG": "CN",
         "ML": 3,
         "OL1": 10,
         "OL2": 18,
         "TP": "pcu",
         "CO2/N2": 47.33272089,
         "Heat": 7.957782,
         "CO2W": 136.3873995221212,
         "_deepnote_index_column": 19
        },
        {
         "name": "mof_unit_38",
         "vol": 810.1330309999998,
         "weight": 691.59732,
         "density [g/cm^3]": 1.4175758422480618,
         "SA": 0,
         "VF": 0,
         "VV": 0,
         "FG": "NHMe-OH",
         "ML": 2,
         "OL1": 10,
         "OL2": 13,
         "TP": "pcu",
         "CO2/N2": 25.08042926,
         "Heat": 8.718778999999998,
         "CO2W": 149.11859813620285,
         "_deepnote_index_column": 37
        },
        {
         "name": "mof_unit_50",
         "vol": 1650.014869,
         "weight": 897.5490800000001,
         "density [g/cm^3]": 0.9032743748584972,
         "SA": 0,
         "VF": 0.1665099999999999,
         "VV": 0.1842999999999999,
         "FG": "OPr",
         "ML": 3,
         "OL1": 4,
         "OL2": 25,
         "TP": "pcu",
         "CO2/N2": 51.56068858,
         "Heat": 7.520972,
         "CO2W": 262.2389534424745,
         "_deepnote_index_column": 49
        },
        {
         "name": "mof_unit_51",
         "vol": 1640.841092,
         "weight": 1192.58024,
         "density [g/cm^3]": 1.2068976096373871,
         "SA": 0,
         "VF": 0.0478099999999999,
         "VV": 0.0396,
         "FG": "NHMe",
         "ML": 9,
         "OL1": 12,
         "OL2": 2,
         "TP": "sra",
         "CO2/N2": 21.35104563,
         "Heat": 10.039954,
         "CO2W": 117.52839436844276,
         "_deepnote_index_column": 50
        },
        {
         "name": "mof_unit_52",
         "vol": 891.879952,
         "weight": 673.12226,
         "density [g/cm^3]": 1.2532476317175922,
         "SA": 0,
         "VF": 0.10355,
         "VV": 0.0826,
         "FG": "H-COOH",
         "ML": 3,
         "OL1": 4,
         "OL2": 10,
         "TP": "pcu",
         "CO2/N2": 28.2110163,
         "Heat": 6.8377740000000005,
         "CO2W": 127.42506357622024,
         "_deepnote_index_column": 51
        },
        {
         "name": "mof_unit_54",
         "vol": 1136.093302,
         "weight": 953.55256,
         "density [g/cm^3]": 1.3937342691792403,
         "SA": 0,
         "VF": 0,
         "VV": 0,
         "FG": "Cl",
         "ML": 2,
         "OL1": 9,
         "OL2": 12,
         "TP": "pcu",
         "CO2/N2": 50.9939186,
         "Heat": 7.79743,
         "CO2W": 209.7802677018093,
         "_deepnote_index_column": 53
        },
        {
         "name": "mof_unit_61",
         "vol": 1672.749498,
         "weight": 2116.32945,
         "density [g/cm^3]": 2.1008822355677075,
         "SA": 0,
         "VF": 0.11314,
         "VV": 0.0539,
         "FG": "NO2-I",
         "ML": 3,
         "OL1": 14,
         "OL2": 25,
         "TP": "pcu",
         "CO2/N2": 33.18199334,
         "Heat": 7.272802999999999,
         "CO2W": 77.08695117160904,
         "_deepnote_index_column": 60
        },
        {
         "name": "mof_unit_63",
         "vol": 1105.832336,
         "weight": 813.773143,
         "density [g/cm^3]": 1.2219780620316567,
         "SA": 0,
         "VF": 0,
         "VV": 0,
         "FG": "F-Et",
         "ML": 2,
         "OL1": 4,
         "OL2": 9,
         "TP": "pcu",
         "CO2/N2": 18.76293738,
         "Heat": 8.666316999999998,
         "CO2W": 91.58397362001809,
         "_deepnote_index_column": 62
        },
        {
         "name": "mof_unit_64",
         "vol": 3963.570407,
         "weight": 3233.91816,
         "density [g/cm^3]": 1.3548517901744441,
         "SA": 0,
         "VF": 0.05679,
         "VV": 0.0419,
         "FG": "OMe-NHMe",
         "ML": 4,
         "OL1": 11,
         "OL2": 14,
         "TP": "acs",
         "CO2/N2": 41.8775834,
         "Heat": 7.605345,
         "CO2W": 104.64185872266044,
         "_deepnote_index_column": 63
        },
        {
         "name": "mof_unit_73",
         "vol": 709.2616929999999,
         "weight": 670.80894,
         "density [g/cm^3]": 1.5705135188058155,
         "SA": 0,
         "VF": 0.0681599999999999,
         "VV": 0.0434,
         "FG": "Cl-COOH",
         "ML": 3,
         "OL1": 10,
         "OL2": 14,
         "TP": "pcu",
         "CO2/N2": 42.10001067,
         "Heat": 8.600697,
         "CO2W": 165.51647703523167,
         "_deepnote_index_column": 72
        },
        {
         "name": "mof_unit_75",
         "vol": 4286.744898,
         "weight": 2858.69896,
         "density [g/cm^3]": 1.1073632987241966,
         "SA": 0,
         "VF": 0.17527,
         "VV": 0.1583,
         "FG": "HCO-H",
         "ML": 1,
         "OL1": 9,
         "OL2": 24,
         "TP": "pcu",
         "CO2/N2": 29.13097924,
         "Heat": 6.992108999999999,
         "CO2W": 131.77780199479972,
         "_deepnote_index_column": 74
        },
        {
         "name": "mof_unit_79",
         "vol": 1912.868035,
         "weight": 1414.688,
         "density [g/cm^3]": 1.2280753133710032,
         "SA": 0,
         "VF": 0.0752,
         "VV": 0.0611999999999999,
         "FG": "NO2",
         "ML": 9,
         "OL1": 2,
         "OL2": 16,
         "TP": "sra",
         "CO2/N2": 169.6082149,
         "Heat": 8.843831,
         "CO2W": 320.0348941341982,
         "_deepnote_index_column": 78
        },
        {
         "name": "mof_unit_80",
         "vol": 2221.872657,
         "weight": 1598.3916800000002,
         "density [g/cm^3]": 1.1945749059673496,
         "SA": 0,
         "VF": 0.10134,
         "VV": 0.0848,
         "FG": "NO2-Ph",
         "ML": 3,
         "OL1": 12,
         "OL2": 12,
         "TP": "pcu",
         "CO2/N2": 51.36640027,
         "Heat": 7.116944,
         "CO2W": 128.1002266576822,
         "_deepnote_index_column": 79
        },
        {
         "name": "mof_unit_83",
         "vol": 672.439707,
         "weight": 527.436,
         "density [g/cm^3]": 1.302464096517132,
         "SA": 0,
         "VF": 0.07867,
         "VV": 0.0604,
         "FG": "NHMe",
         "ML": 2,
         "OL1": 10,
         "OL2": 12,
         "TP": "pcu",
         "CO2/N2": 17.55707953,
         "Heat": 7.065658999999999,
         "CO2W": 133.82376073114204,
         "_deepnote_index_column": 82
        },
        {
         "name": "mof_unit_85",
         "vol": 1655.809189,
         "weight": 1322.515173,
         "density [g/cm^3]": 1.326293729955511,
         "SA": 0,
         "VF": 0.1264,
         "VV": 0.0952999999999999,
         "FG": "H-F",
         "ML": 4,
         "OL1": 4,
         "OL2": 5,
         "TP": "acs",
         "CO2/N2": 60.16724896,
         "Heat": 7.322657999999999,
         "CO2W": 223.69886192590465,
         "_deepnote_index_column": 84
        },
        {
         "name": "mof_unit_86",
         "vol": 3939.098174,
         "weight": 2685.55264,
         "density [g/cm^3]": 1.132103690702683,
         "SA": 0,
         "VF": 0.11985,
         "VV": 0.1058999999999999,
         "FG": "Pr",
         "ML": 4,
         "OL1": 11,
         "OL2": 14,
         "TP": "acs",
         "CO2/N2": 36.05090878,
         "Heat": 6.958074000000001,
         "CO2W": 152.33230837334276,
         "_deepnote_index_column": 85
        },
        {
         "name": "mof_unit_91",
         "vol": 1626.698608,
         "weight": 1340.47236,
         "density [g/cm^3]": 1.368359179584667,
         "SA": 0,
         "VF": 0.07313,
         "VV": 0.0534,
         "FG": "Me-COOH",
         "ML": 9,
         "OL1": 5,
         "OL2": 16,
         "TP": "sra",
         "CO2/N2": 76.69341423,
         "Heat": 7.343716,
         "CO2W": 160.8317696785544,
         "_deepnote_index_column": 90
        },
        {
         "name": "mof_unit_92",
         "vol": 1990.575519,
         "weight": 1180.16044,
         "density [g/cm^3]": 0.9844909667240813,
         "SA": 0,
         "VF": 0.13688,
         "VV": 0.139,
         "FG": "Pr-OH",
         "ML": 2,
         "OL1": 18,
         "OL2": 22,
         "TP": "pcu",
         "CO2/N2": 32.60165695,
         "Heat": 7.522017999999998,
         "CO2W": 255.52281408568197,
         "_deepnote_index_column": 91
        },
        {
         "name": "mof_unit_101",
         "vol": 1963.398649,
         "weight": 1632.19046,
         "density [g/cm^3]": 1.380421417641711,
         "SA": 0,
         "VF": 0.08422,
         "VV": 0.0609999999999999,
         "FG": "OH-Cl",
         "ML": 4,
         "OL1": 1,
         "OL2": 9,
         "TP": "acs",
         "CO2/N2": 60.46729256,
         "Heat": 8.403178999999998,
         "CO2W": 184.85833109191165,
         "_deepnote_index_column": 100
        },
        {
         "name": "mof_unit_103",
         "vol": 2427.581232,
         "weight": 1506.32512,
         "density [g/cm^3]": 1.0303725707683342,
         "SA": 0,
         "VF": 0.1710599999999999,
         "VV": 0.166,
         "FG": "Cl-CN",
         "ML": 9,
         "OL1": 18,
         "OL2": 19,
         "TP": "sra",
         "CO2/N2": 63.94118868,
         "Heat": 6.022309,
         "CO2W": 356.6972399168732,
         "_deepnote_index_column": 102
        },
        {
         "name": "mof_unit_109",
         "vol": 1042.807508,
         "weight": 877.0462999999999,
         "density [g/cm^3]": 1.396586092667449,
         "SA": 0,
         "VF": 0.0931099999999999,
         "VV": 0.0666999999999999,
         "FG": "Et-I",
         "ML": 3,
         "OL1": 10,
         "OL2": 25,
         "TP": "pcu",
         "CO2/N2": 25.0581111,
         "Heat": 7.002089999999999,
         "CO2W": 95.96279413318705,
         "_deepnote_index_column": 108
        },
        {
         "name": "mof_unit_111",
         "vol": 2169.196148,
         "weight": 1383.4464,
         "density [g/cm^3]": 1.0590411969770839,
         "SA": 0,
         "VF": 0.14656,
         "VV": 0.1384,
         "FG": "H-NH2",
         "ML": 2,
         "OL1": 22,
         "OL2": 22,
         "TP": "pcu",
         "CO2/N2": 17.29778334,
         "Heat": 5.967211,
         "CO2W": 116.74989336791104,
         "_deepnote_index_column": 110
        },
        {
         "name": "mof_unit_121",
         "vol": 900.395742,
         "weight": 579.18656,
         "density [g/cm^3]": 1.0681552627138033,
         "SA": 0,
         "VF": 0.13877,
         "VV": 0.1298999999999999,
         "FG": "NHMe-Pr",
         "ML": 3,
         "OL1": 10,
         "OL2": 21,
         "TP": "pcu",
         "CO2/N2": 24.17049877,
         "Heat": 6.09049,
         "CO2W": 87.38904838135977,
         "_deepnote_index_column": 120
        },
        {
         "name": "mof_unit_127",
         "vol": 2409.284307,
         "weight": 1955.86136,
         "density [g/cm^3]": 1.3480293767315856,
         "SA": 0,
         "VF": 0.14474,
         "VV": 0.1074,
         "FG": "Br",
         "ML": 9,
         "OL1": 16,
         "OL2": 16,
         "TP": "sra",
         "CO2/N2": 120.0707396,
         "Heat": 8.565779,
         "CO2W": 428.57123877809374,
         "_deepnote_index_column": 126
        },
        {
         "name": "mof_unit_135",
         "vol": 768.091096,
         "weight": 579.10704,
         "density [g/cm^3]": 1.2519744197133618,
         "SA": 0,
         "VF": 0.10904,
         "VV": 0.0870999999999999,
         "FG": "NHMe-NH2",
         "ML": 3,
         "OL1": 5,
         "OL2": 24,
         "TP": "pcu",
         "CO2/N2": 22.89351829,
         "Heat": 6.647060000000001,
         "CO2W": 103.41401935837818,
         "_deepnote_index_column": 134
        },
        {
         "name": "mof_unit_139",
         "vol": 907.901083,
         "weight": 581.16268,
         "density [g/cm^3]": 1.0629394487099648,
         "SA": 0,
         "VF": 0.1418599999999999,
         "VV": 0.1335,
         "FG": "NHMe-Me",
         "ML": 3,
         "OL1": 10,
         "OL2": 21,
         "TP": "pcu",
         "CO2/N2": 21.88999898,
         "Heat": 6.276813,
         "CO2W": 147.21543061391057,
         "_deepnote_index_column": 138
        },
        {
         "name": "mof_unit_145",
         "vol": 1924.86342,
         "weight": 1560.78944,
         "density [g/cm^3]": 1.346460881207665,
         "SA": 0,
         "VF": 0.0469699999999999,
         "VV": 0.0349,
         "FG": "Me-NO2",
         "ML": 9,
         "OL1": 2,
         "OL2": 16,
         "TP": "sra",
         "CO2/N2": 29.17878064,
         "Heat": 9.774616,
         "CO2W": 214.49865067428567,
         "_deepnote_index_column": 144
        },
        {
         "name": "mof_unit_152",
         "vol": 1138.3439119999998,
         "weight": 1225.67492,
         "density [g/cm^3]": 1.787932636351465,
         "SA": 0,
         "VF": 0.0376,
         "VV": 0.021,
         "FG": "SO3H",
         "ML": 3,
         "OL1": 14,
         "OL2": 24,
         "TP": "pcu",
         "CO2/N2": 56.71431936,
         "Heat": 12.266385,
         "CO2W": 106.22279682318894,
         "_deepnote_index_column": 151
        },
        {
         "name": "mof_unit_153",
         "vol": 1683.0483329999995,
         "weight": 1294.43424,
         "density [g/cm^3]": 1.2771230574574357,
         "SA": 0,
         "VF": 0,
         "VV": 0,
         "FG": "Cl-OPr",
         "ML": 2,
         "OL1": 14,
         "OL2": 23,
         "TP": "pcu",
         "CO2/N2": 16.10420157,
         "Heat": 8.020039,
         "CO2W": 107.28044226644738,
         "_deepnote_index_column": 152
        }
       ],
       "rows_bottom": [
        {
         "name": "mof_unit_68581",
         "vol": 1571.992234,
         "weight": 1392.4674,
         "density [g/cm^3]": 1.4709028240631878,
         "SA": 0,
         "VF": 0,
         "VV": 0,
         "FG": "COOH-CN",
         "ML": 9,
         "OL1": 24,
         "OL2": 24,
         "TP": "sra",
         "CO2/N2": 304.54753930000004,
         "Heat": "nan",
         "CO2W": -2.6749003843545887,
         "_deepnote_index_column": 68580
        },
        {
         "name": "mof_unit_68582",
         "vol": 1108.951518,
         "weight": 941.5172,
         "density [g/cm^3]": 1.409824456625163,
         "SA": 0,
         "VF": 0.0178999999999999,
         "VV": 0.0126999999999999,
         "FG": "SO3H-OPr",
         "ML": 3,
         "OL1": 14,
         "OL2": 24,
         "TP": "pcu",
         "CO2/N2": 0,
         "Heat": "nan",
         "CO2W": -2.740600850472407,
         "_deepnote_index_column": 68581
        },
        {
         "name": "mof_unit_68583",
         "vol": 1116.795338,
         "weight": 883.4779,
         "density [g/cm^3]": 1.3136251040349525,
         "SA": 0,
         "VF": 0,
         "VV": 0,
         "FG": "OEt-OMe",
         "ML": 3,
         "OL1": 4,
         "OL2": 24,
         "TP": "pcu",
         "CO2/N2": 0,
         "Heat": "nan",
         "CO2W": -2.8724970123521474,
         "_deepnote_index_column": 68582
        },
        {
         "name": "mof_unit_68584",
         "vol": 2212.049076,
         "weight": 2310.726916,
         "density [g/cm^3]": 1.7346154363053745,
         "SA": 0,
         "VF": 0,
         "VV": 0,
         "FG": "COOH-NHMe",
         "ML": 10,
         "OL1": 45,
         "OL2": 50,
         "TP": "etb",
         "CO2/N2": 33.08578745,
         "Heat": "nan",
         "CO2W": -2.8898300498957936,
         "_deepnote_index_column": 68583
        },
        {
         "name": "mof_unit_68585",
         "vol": 1211.599818,
         "weight": 1048.08888,
         "density [g/cm^3]": 1.4364425307260984,
         "SA": 0,
         "VF": 0,
         "VV": 0,
         "FG": "OPr",
         "ML": 2,
         "OL1": 9,
         "OL2": 12,
         "TP": "pcu",
         "CO2/N2": 0,
         "Heat": "nan",
         "CO2W": -2.940178397046383,
         "_deepnote_index_column": 68584
        },
        {
         "name": "mof_unit_68586",
         "vol": 1771.7286170000002,
         "weight": 1731.940296,
         "density [g/cm^3]": 1.623248680144697,
         "SA": 0,
         "VF": 0,
         "VV": 0,
         "FG": "OMe-Cl",
         "ML": 10,
         "OL1": 48,
         "OL2": 48,
         "TP": "etb",
         "CO2/N2": 0,
         "Heat": "nan",
         "CO2W": -3.2523381493800363,
         "_deepnote_index_column": 68585
        },
        {
         "name": "mof_unit_68587",
         "vol": 851.7015679999998,
         "weight": 731.33212,
         "density [g/cm^3]": 1.425858873779601,
         "SA": 0,
         "VF": 0,
         "VV": 0,
         "FG": "OPr-Ph",
         "ML": 3,
         "OL1": 10,
         "OL2": 16,
         "TP": "pcu",
         "CO2/N2": 0.02033596,
         "Heat": "nan",
         "CO2W": -3.347422241048035,
         "_deepnote_index_column": 68586
        },
        {
         "name": "mof_unit_68588",
         "vol": 1970.167148,
         "weight": 1713.31308,
         "density [g/cm^3]": 1.4440525539933526,
         "SA": 0,
         "VF": 0,
         "VV": 0,
         "FG": "OPr-OMe",
         "ML": 9,
         "OL1": 16,
         "OL2": 22,
         "TP": "sra",
         "CO2/N2": 0,
         "Heat": "nan",
         "CO2W": -3.3878659953165413,
         "_deepnote_index_column": 68587
        },
        {
         "name": "mof_unit_68589",
         "vol": 1895.556284,
         "weight": 1970.615256,
         "density [g/cm^3]": 1.7262929541153313,
         "SA": 0,
         "VF": 0,
         "VV": 0,
         "FG": "NO2-Et",
         "ML": 10,
         "OL1": 42,
         "OL2": 49,
         "TP": "etb",
         "CO2/N2": 0,
         "Heat": "nan",
         "CO2W": -3.409986252753193,
         "_deepnote_index_column": 68588
        },
        {
         "name": "mof_unit_68590",
         "vol": 2981.283155,
         "weight": 2629.06624,
         "density [g/cm^3]": 1.4643592799455507,
         "SA": 0,
         "VF": 0.0048599999999999,
         "VV": 0,
         "FG": "Cl-CN",
         "ML": 9,
         "OL1": 18,
         "OL2": 29,
         "TP": "sra",
         "CO2/N2": 4.613800749,
         "Heat": "nan",
         "CO2W": -3.478823173283671,
         "_deepnote_index_column": 68589
        },
        {
         "name": "mof_unit_68591",
         "vol": 2046.621875,
         "weight": 2107.834824,
         "density [g/cm^3]": 1.7102055252121058,
         "SA": 0,
         "VF": 0,
         "VV": 0,
         "FG": "Me-F",
         "ML": 10,
         "OL1": 47,
         "OL2": 50,
         "TP": "etb",
         "CO2/N2": 7.488249221,
         "Heat": "nan",
         "CO2W": -3.551126701322879,
         "_deepnote_index_column": 68590
        },
        {
         "name": "mof_unit_68592",
         "vol": 1502.968949,
         "weight": 1527.332636,
         "density [g/cm^3]": 1.687457972482331,
         "SA": 0,
         "VF": 0,
         "VV": 0,
         "FG": "H-OMe",
         "ML": 10,
         "OL1": 46,
         "OL2": 48,
         "TP": "etb",
         "CO2/N2": 0,
         "Heat": "nan",
         "CO2W": -3.5747326476918437,
         "_deepnote_index_column": 68591
        },
        {
         "name": "mof_unit_68593",
         "vol": 1154.248742,
         "weight": 990.01964,
         "density [g/cm^3]": 1.4242746413195568,
         "SA": 0,
         "VF": 0,
         "VV": 0,
         "FG": "NHMe",
         "ML": 2,
         "OL1": 9,
         "OL2": 12,
         "TP": "pcu",
         "CO2/N2": 0,
         "Heat": "nan",
         "CO2W": -3.7774466486784775,
         "_deepnote_index_column": 68592
        },
        {
         "name": "mof_unit_68594",
         "vol": 1524.505449,
         "weight": 1685.041936,
         "density [g/cm^3]": 1.8354014662530997,
         "SA": 0,
         "VF": 0.0069899999999999,
         "VV": 0,
         "FG": "NO2-Br",
         "ML": 10,
         "OL1": 46,
         "OL2": 48,
         "TP": "etb",
         "CO2/N2": 9.460790768,
         "Heat": "nan",
         "CO2W": -3.792633691097672,
         "_deepnote_index_column": 68593
        },
        {
         "name": "mof_unit_68595",
         "vol": 1652.258112,
         "weight": 1766.5988,
         "density [g/cm^3]": 1.7754538168380318,
         "SA": 0,
         "VF": 0,
         "VV": 0,
         "FG": "OH-NO2",
         "ML": 9,
         "OL1": 2,
         "OL2": 22,
         "TP": "sra",
         "CO2/N2": 0,
         "Heat": "nan",
         "CO2W": -3.942523196713197,
         "_deepnote_index_column": 68594
        },
        {
         "name": "mof_unit_68596",
         "vol": 3760.489888,
         "weight": 3343.200672,
         "density [g/cm^3]": 1.476275328275229,
         "SA": 0,
         "VF": 0.0122099999999999,
         "VV": 0,
         "FG": "NHMe-H",
         "ML": 10,
         "OL1": 42,
         "OL2": 42,
         "TP": "etb",
         "CO2/N2": 0.2271604939999999,
         "Heat": "nan",
         "CO2W": -4.115523419053584,
         "_deepnote_index_column": 68595
        },
        {
         "name": "mof_unit_68597",
         "vol": 3320.078141,
         "weight": 3090.5876,
         "density [g/cm^3]": 1.5457601042360525,
         "SA": 0,
         "VF": 0,
         "VV": 0,
         "FG": "Me-OMe",
         "ML": 9,
         "OL1": 18,
         "OL2": 29,
         "TP": "sra",
         "CO2/N2": 0,
         "Heat": "nan",
         "CO2W": -4.142265819835208,
         "_deepnote_index_column": 68596
        },
        {
         "name": "mof_unit_68598",
         "vol": 1621.161289,
         "weight": 1292.77096,
         "density [g/cm^3]": 1.3241729274467027,
         "SA": 0,
         "VF": 0,
         "VV": 0,
         "FG": "Me-OEt",
         "ML": 9,
         "OL1": 12,
         "OL2": 12,
         "TP": "sra",
         "CO2/N2": 4082.551111,
         "Heat": "nan",
         "CO2W": -4.267228766697491,
         "_deepnote_index_column": 68597
        },
        {
         "name": "mof_unit_68599",
         "vol": 1716.981598,
         "weight": 2211.8456,
         "density [g/cm^3]": 2.139136550387187,
         "SA": 0,
         "VF": 0,
         "VV": 0,
         "FG": "Br-COOH",
         "ML": 9,
         "OL1": 22,
         "OL2": 22,
         "TP": "sra",
         "CO2/N2": 0,
         "Heat": "nan",
         "CO2W": -4.289844253778246,
         "_deepnote_index_column": 68598
        },
        {
         "name": "mof_unit_68600",
         "vol": 1174.62717,
         "weight": 1649.17081,
         "density [g/cm^3]": 2.3313900502041003,
         "SA": 0,
         "VF": 0,
         "VV": 0,
         "FG": "COOH-I",
         "ML": 2,
         "OL1": 14,
         "OL2": 22,
         "TP": "pcu",
         "CO2/N2": 2276.833333,
         "Heat": "nan",
         "CO2W": -4.46383493540684,
         "_deepnote_index_column": 68599
        },
        {
         "name": "mof_unit_68601",
         "vol": 1132.348176,
         "weight": 903.87744,
         "density [g/cm^3]": 1.325497471563552,
         "SA": 0,
         "VF": 0,
         "VV": 0,
         "FG": "OEt",
         "ML": 2,
         "OL1": 9,
         "OL2": 12,
         "TP": "pcu",
         "CO2/N2": 546.3466667,
         "Heat": "nan",
         "CO2W": -5.648259167555951,
         "_deepnote_index_column": 68600
        },
        {
         "name": "mof_unit_68602",
         "vol": 1131.069889,
         "weight": 895.9516800000001,
         "density [g/cm^3]": 1.3153595698870204,
         "SA": 0,
         "VF": 0,
         "VV": 0,
         "FG": "NHMe-OEt",
         "ML": 2,
         "OL1": 4,
         "OL2": 22,
         "TP": "pcu",
         "CO2/N2": 454.265353,
         "Heat": "nan",
         "CO2W": -5.789564692673669,
         "_deepnote_index_column": 68601
        },
        {
         "name": "mof_unit_68603",
         "vol": 1046.560841,
         "weight": 967.52096,
         "density [g/cm^3]": 1.535130297234578,
         "SA": 0,
         "VF": 0,
         "VV": 0,
         "FG": "CN-Ph",
         "ML": 3,
         "OL1": 10,
         "OL2": 17,
         "TP": "pcu",
         "CO2/N2": 0,
         "Heat": "nan",
         "CO2W": -6.190205474753933,
         "_deepnote_index_column": 68602
        },
        {
         "name": "mof_unit_68604",
         "vol": 699.494867,
         "weight": 653.1773599999999,
         "density [g/cm^3]": 1.5505862652375972,
         "SA": 0,
         "VF": 0,
         "VV": 0,
         "FG": "SO3H-Me",
         "ML": 3,
         "OL1": 10,
         "OL2": 24,
         "TP": "pcu",
         "CO2/N2": 15.60473156,
         "Heat": "nan",
         "CO2W": -6.788277808283721,
         "_deepnote_index_column": 68603
        },
        {
         "name": "mof_unit_68605",
         "vol": 1508.12951,
         "weight": 1517.382416,
         "density [g/cm^3]": 1.6707279980647283,
         "SA": 0,
         "VF": 0,
         "VV": 0,
         "FG": "Et",
         "ML": 10,
         "OL1": 46,
         "OL2": 49,
         "TP": "etb",
         "CO2/N2": 9.974765376,
         "Heat": "nan",
         "CO2W": -6.85959087703472,
         "_deepnote_index_column": 68604
        },
        {
         "name": "mof_unit_68606",
         "vol": 2112.326167,
         "weight": 1977.49208,
         "density [g/cm^3]": 1.5545443453871675,
         "SA": 0,
         "VF": 0,
         "VV": 0,
         "FG": "OPr",
         "ML": 4,
         "OL1": 14,
         "OL2": 14,
         "TP": "acs",
         "CO2/N2": 3.233981158,
         "Heat": "nan",
         "CO2W": -7.204435785879248,
         "_deepnote_index_column": 68605
        },
        {
         "name": "mof_unit_68607",
         "vol": 949.067112,
         "weight": 753.7875199999999,
         "density [g/cm^3]": 1.318868089131298,
         "SA": 0,
         "VF": 0,
         "VV": 0,
         "FG": "Pr",
         "ML": 2,
         "OL1": 10,
         "OL2": 18,
         "TP": "pcu",
         "CO2/N2": 0,
         "Heat": "nan",
         "CO2W": -9.124771269167136,
         "_deepnote_index_column": 68606
        },
        {
         "name": "mof_unit_68608",
         "vol": 1202.182553,
         "weight": 1042.53824,
         "density [g/cm^3]": 1.4400279264821438,
         "SA": 0,
         "VF": 0,
         "VV": 0,
         "FG": "Ph-Cl",
         "ML": 3,
         "OL1": 12,
         "OL2": 24,
         "TP": "pcu",
         "CO2/N2": 0,
         "Heat": "nan",
         "CO2W": -10.954314651035927,
         "_deepnote_index_column": 68607
        },
        {
         "name": "mof_unit_68609",
         "vol": 1188.302573,
         "weight": 1001.700216,
         "density [g/cm^3]": 1.3997809265676309,
         "SA": 0,
         "VF": 0,
         "VV": 0,
         "FG": "Pr-F",
         "ML": 3,
         "OL1": 4,
         "OL2": 24,
         "TP": "pcu",
         "CO2/N2": 24.13177036,
         "Heat": "nan",
         "CO2W": -12.943652131402327,
         "_deepnote_index_column": 68608
        },
        {
         "name": "mof_unit_68610",
         "vol": 1506.6603630000002,
         "weight": 1493.2964960000002,
         "density [g/cm^3]": 1.6458112421106017,
         "SA": 0,
         "VF": 0.01108,
         "VV": 0,
         "FG": "SO3H",
         "ML": 10,
         "OL1": 42,
         "OL2": 46,
         "TP": "etb",
         "CO2/N2": 6.071817778,
         "Heat": "nan",
         "CO2W": -12.985581574603149,
         "_deepnote_index_column": 68609
        },
        {
         "name": "mof_unit_68611",
         "vol": 2035.532738,
         "weight": 1959.51832,
         "density [g/cm^3]": 1.598529215643988,
         "SA": 0,
         "VF": 0,
         "VV": 0,
         "FG": "OPr",
         "ML": 4,
         "OL1": 14,
         "OL2": 22,
         "TP": "acs",
         "CO2/N2": 9.876133998,
         "Heat": "nan",
         "CO2W": -13.187635269397644,
         "_deepnote_index_column": 68610
        },
        {
         "name": "mof_unit_68612",
         "vol": 3985.426053,
         "weight": 3638.67728,
         "density [g/cm^3]": 1.5160660592317354,
         "SA": 0,
         "VF": 0,
         "VV": 0,
         "FG": "OPr-Me",
         "ML": 4,
         "OL1": 4,
         "OL2": 15,
         "TP": "acs",
         "CO2/N2": 5.285050632,
         "Heat": "inf",
         "CO2W": 15.672697623512306,
         "_deepnote_index_column": 68611
        },
        {
         "name": "mof_unit_68613",
         "vol": 1591.009408,
         "weight": 2071.219,
         "density [g/cm^3]": 2.1617358017910604,
         "SA": 0,
         "VF": 0.01609,
         "VV": 0,
         "FG": "I-OEt",
         "ML": 2,
         "OL1": 9,
         "OL2": 16,
         "TP": "pcu",
         "CO2/N2": 2.621271792,
         "Heat": "inf",
         "CO2W": 3.1447082400614,
         "_deepnote_index_column": 68612
        }
       ]
      },
      "text/plain": "                 name          vol       weight  density [g/cm^3]   SA  \\\n0          mof_unit_1  1116.667429   875.240600          1.301526  0.0   \n4          mof_unit_5  1137.800963   901.736120          1.316020  0.0   \n11        mof_unit_12  1175.475860  1397.051280          1.973549  0.0   \n13        mof_unit_14  1071.619874   701.628600          1.087216  0.0   \n19        mof_unit_20   919.305781   689.174400          1.244854  0.0   \n...               ...          ...          ...               ...  ...   \n68608  mof_unit_68609  1188.302573  1001.700216          1.399781  0.0   \n68609  mof_unit_68610  1506.660363  1493.296496          1.645811  0.0   \n68610  mof_unit_68611  2035.532738  1959.518320          1.598529  0.0   \n68611  mof_unit_68612  3985.426053  3638.677280          1.516066  0.0   \n68612  mof_unit_68613  1591.009408  2071.219000          2.161736  0.0   \n\n            VF      VV        FG  ML  OL1  OL2   TP     CO2/N2      Heat  \\\n0      0.07899  0.0607  COOH-OEt   3    4   11  pcu  22.864166  6.786041   \n4      0.07778  0.0591   NHMe-OH   2    1   22  pcu  30.001838  6.478063   \n11     0.05704  0.0289     Me-Br   2   22   24  pcu  58.106974  7.407898   \n13     0.10455  0.0962    OEt-CN   2   12   22  pcu  31.664456  7.427183   \n19     0.07816  0.0628        CN   3   10   18  pcu  47.332721  7.957782   \n...        ...     ...       ...  ..  ...  ...  ...        ...       ...   \n68608  0.00000  0.0000      Pr-F   3    4   24  pcu  24.131770       NaN   \n68609  0.01108  0.0000      SO3H  10   42   46  etb   6.071818       NaN   \n68610  0.00000  0.0000       OPr   4   14   22  acs   9.876134       NaN   \n68611  0.00000  0.0000    OPr-Me   4    4   15  acs   5.285051       inf   \n68612  0.01609  0.0000     I-OEt   2    9   16  pcu   2.621272       inf   \n\n             CO2W  \n0      105.284502  \n4       79.210001  \n11     101.964812  \n13     133.371121  \n19     136.387400  \n...           ...  \n68608  -12.943652  \n68609  -12.985582  \n68610  -13.187635  \n68611   15.672698  \n68612    3.144708  \n\n[14483 rows x 15 columns]",
      "text/html": "<div>\n<style scoped>\n    .dataframe tbody tr th:only-of-type {\n        vertical-align: middle;\n    }\n\n    .dataframe tbody tr th {\n        vertical-align: top;\n    }\n\n    .dataframe thead th {\n        text-align: right;\n    }\n</style>\n<table border=\"1\" class=\"dataframe\">\n  <thead>\n    <tr style=\"text-align: right;\">\n      <th></th>\n      <th>name</th>\n      <th>vol</th>\n      <th>weight</th>\n      <th>density [g/cm^3]</th>\n      <th>SA</th>\n      <th>VF</th>\n      <th>VV</th>\n      <th>FG</th>\n      <th>ML</th>\n      <th>OL1</th>\n      <th>OL2</th>\n      <th>TP</th>\n      <th>CO2/N2</th>\n      <th>Heat</th>\n      <th>CO2W</th>\n    </tr>\n  </thead>\n  <tbody>\n    <tr>\n      <th>0</th>\n      <td>mof_unit_1</td>\n      <td>1116.667429</td>\n      <td>875.240600</td>\n      <td>1.301526</td>\n      <td>0.0</td>\n      <td>0.07899</td>\n      <td>0.0607</td>\n      <td>COOH-OEt</td>\n      <td>3</td>\n      <td>4</td>\n      <td>11</td>\n      <td>pcu</td>\n      <td>22.864166</td>\n      <td>6.786041</td>\n      <td>105.284502</td>\n    </tr>\n    <tr>\n      <th>4</th>\n      <td>mof_unit_5</td>\n      <td>1137.800963</td>\n      <td>901.736120</td>\n      <td>1.316020</td>\n      <td>0.0</td>\n      <td>0.07778</td>\n      <td>0.0591</td>\n      <td>NHMe-OH</td>\n      <td>2</td>\n      <td>1</td>\n      <td>22</td>\n      <td>pcu</td>\n      <td>30.001838</td>\n      <td>6.478063</td>\n      <td>79.210001</td>\n    </tr>\n    <tr>\n      <th>11</th>\n      <td>mof_unit_12</td>\n      <td>1175.475860</td>\n      <td>1397.051280</td>\n      <td>1.973549</td>\n      <td>0.0</td>\n      <td>0.05704</td>\n      <td>0.0289</td>\n      <td>Me-Br</td>\n      <td>2</td>\n      <td>22</td>\n      <td>24</td>\n      <td>pcu</td>\n      <td>58.106974</td>\n      <td>7.407898</td>\n      <td>101.964812</td>\n    </tr>\n    <tr>\n      <th>13</th>\n      <td>mof_unit_14</td>\n      <td>1071.619874</td>\n      <td>701.628600</td>\n      <td>1.087216</td>\n      <td>0.0</td>\n      <td>0.10455</td>\n      <td>0.0962</td>\n      <td>OEt-CN</td>\n      <td>2</td>\n      <td>12</td>\n      <td>22</td>\n      <td>pcu</td>\n      <td>31.664456</td>\n      <td>7.427183</td>\n      <td>133.371121</td>\n    </tr>\n    <tr>\n      <th>19</th>\n      <td>mof_unit_20</td>\n      <td>919.305781</td>\n      <td>689.174400</td>\n      <td>1.244854</td>\n      <td>0.0</td>\n      <td>0.07816</td>\n      <td>0.0628</td>\n      <td>CN</td>\n      <td>3</td>\n      <td>10</td>\n      <td>18</td>\n      <td>pcu</td>\n      <td>47.332721</td>\n      <td>7.957782</td>\n      <td>136.387400</td>\n    </tr>\n    <tr>\n      <th>...</th>\n      <td>...</td>\n      <td>...</td>\n      <td>...</td>\n      <td>...</td>\n      <td>...</td>\n      <td>...</td>\n      <td>...</td>\n      <td>...</td>\n      <td>...</td>\n      <td>...</td>\n      <td>...</td>\n      <td>...</td>\n      <td>...</td>\n      <td>...</td>\n      <td>...</td>\n    </tr>\n    <tr>\n      <th>68608</th>\n      <td>mof_unit_68609</td>\n      <td>1188.302573</td>\n      <td>1001.700216</td>\n      <td>1.399781</td>\n      <td>0.0</td>\n      <td>0.00000</td>\n      <td>0.0000</td>\n      <td>Pr-F</td>\n      <td>3</td>\n      <td>4</td>\n      <td>24</td>\n      <td>pcu</td>\n      <td>24.131770</td>\n      <td>NaN</td>\n      <td>-12.943652</td>\n    </tr>\n    <tr>\n      <th>68609</th>\n      <td>mof_unit_68610</td>\n      <td>1506.660363</td>\n      <td>1493.296496</td>\n      <td>1.645811</td>\n      <td>0.0</td>\n      <td>0.01108</td>\n      <td>0.0000</td>\n      <td>SO3H</td>\n      <td>10</td>\n      <td>42</td>\n      <td>46</td>\n      <td>etb</td>\n      <td>6.071818</td>\n      <td>NaN</td>\n      <td>-12.985582</td>\n    </tr>\n    <tr>\n      <th>68610</th>\n      <td>mof_unit_68611</td>\n      <td>2035.532738</td>\n      <td>1959.518320</td>\n      <td>1.598529</td>\n      <td>0.0</td>\n      <td>0.00000</td>\n      <td>0.0000</td>\n      <td>OPr</td>\n      <td>4</td>\n      <td>14</td>\n      <td>22</td>\n      <td>acs</td>\n      <td>9.876134</td>\n      <td>NaN</td>\n      <td>-13.187635</td>\n    </tr>\n    <tr>\n      <th>68611</th>\n      <td>mof_unit_68612</td>\n      <td>3985.426053</td>\n      <td>3638.677280</td>\n      <td>1.516066</td>\n      <td>0.0</td>\n      <td>0.00000</td>\n      <td>0.0000</td>\n      <td>OPr-Me</td>\n      <td>4</td>\n      <td>4</td>\n      <td>15</td>\n      <td>acs</td>\n      <td>5.285051</td>\n      <td>inf</td>\n      <td>15.672698</td>\n    </tr>\n    <tr>\n      <th>68612</th>\n      <td>mof_unit_68613</td>\n      <td>1591.009408</td>\n      <td>2071.219000</td>\n      <td>2.161736</td>\n      <td>0.0</td>\n      <td>0.01609</td>\n      <td>0.0000</td>\n      <td>I-OEt</td>\n      <td>2</td>\n      <td>9</td>\n      <td>16</td>\n      <td>pcu</td>\n      <td>2.621272</td>\n      <td>inf</td>\n      <td>3.144708</td>\n    </tr>\n  </tbody>\n</table>\n<p>14483 rows × 15 columns</p>\n</div>"
     },
     "metadata": {}
    }
   ],
   "execution_count": null
  },
  {
   "cell_type": "code",
   "source": "",
   "metadata": {
    "tags": [],
    "cell_id": "00019-58ce8987-3942-4427-9831-bea83ca264b3",
    "deepnote_cell_type": "code"
   },
   "outputs": [],
   "execution_count": null
  },
  {
   "cell_type": "markdown",
   "source": "<a style='text-decoration:none;line-height:16px;display:flex;color:#5B5B62;padding:10px;justify-content:end;' href='https://deepnote.com?utm_source=created-in-deepnote-cell&projectId=fec3da3c-6456-4f5f-a78e-da8322208e8a' target=\"_blank\">\n<img alt='Created in deepnote.com' style='display:inline;max-height:16px;margin:0px;margin-right:7.5px;' src='data:image/svg+xml;base64,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' > </img>\nCreated in <span style='font-weight:600;margin-left:4px;'>Deepnote</span></a>",
   "metadata": {
    "tags": [],
    "created_in_deepnote_cell": true,
    "deepnote_cell_type": "markdown"
   }
  }
 ],
 "nbformat": 4,
 "nbformat_minor": 2,
 "metadata": {
  "orig_nbformat": 2,
  "deepnote": {
   "is_reactive": false
  },
  "deepnote_notebook_id": "cfc89914-b593-40d1-b73d-2356090f263d",
  "deepnote_execution_queue": []
 }
}