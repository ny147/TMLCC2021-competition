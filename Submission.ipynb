{
 "cells": [
  {
   "cell_type": "code",
   "execution_count": 16,
   "id": "e7333b0c",
   "metadata": {},
   "outputs": [],
   "source": [
    "import pandas as pd"
   ]
  },
  {
   "cell_type": "code",
   "execution_count": 17,
   "id": "f3c2e2af",
   "metadata": {},
   "outputs": [],
   "source": [
    "test = pd.read_csv('dataset/test_Phase2_fill.csv')\n",
    "y_pred = test.pop(\"CO2_working_capacity [mL/g]\")"
   ]
  },
  {
   "cell_type": "code",
   "execution_count": 18,
   "id": "c1ef7a8f",
   "metadata": {},
   "outputs": [],
   "source": [
    "submission = pd.DataFrame({  #Phase 2 เริ่มตัวที่ 68613   \n",
    "    \"id\": [\"pretest_\" + str(i+68613) for i in range(1,17001)],# ปรับ range ตามจำนวนข้อมูล\n",
    "    \"CO2_working_capacity [mL/g]\": y_pred \n",
    "    })\n",
    "\n",
    "submission.to_csv(\"submission.csv\", index=False) "
   ]
  },
  {
   "cell_type": "code",
   "execution_count": null,
   "id": "f06c80f5",
   "metadata": {},
   "outputs": [],
   "source": []
  },
  {
   "cell_type": "code",
   "execution_count": 15,
   "id": "a3109ea2",
   "metadata": {},
   "outputs": [],
   "source": []
  },
  {
   "cell_type": "code",
   "execution_count": null,
   "id": "f0b5e057",
   "metadata": {},
   "outputs": [],
   "source": []
  }
 ],
 "metadata": {
  "kernelspec": {
   "display_name": "Python 3",
   "language": "python",
   "name": "python3"
  },
  "language_info": {
   "codemirror_mode": {
    "name": "ipython",
    "version": 3
   },
   "file_extension": ".py",
   "mimetype": "text/x-python",
   "name": "python",
   "nbconvert_exporter": "python",
   "pygments_lexer": "ipython3",
   "version": "3.8.8"
  }
 },
 "nbformat": 4,
 "nbformat_minor": 5
}
