{
 "cells": [
  {
   "cell_type": "code",
   "execution_count": 1,
   "id": "e7333b0c",
   "metadata": {},
   "outputs": [],
   "source": [
    "import pandas as pd"
   ]
  },
  {
   "cell_type": "code",
   "execution_count": 3,
   "id": "f3c2e2af",
   "metadata": {},
   "outputs": [],
   "source": [
    "test = pd.read_csv('dataset/pretest_nice_Normalize.csv')\n",
    "y_pred = test.pop(\"CO2_working_capacity [mL/g]\")"
   ]
  },
  {
   "cell_type": "code",
   "execution_count": 7,
   "id": "c1ef7a8f",
   "metadata": {},
   "outputs": [],
   "source": [
    "submission = pd.DataFrame({\n",
    "    \"id\": [\"pretest_\" + str(i) for i in range(1,2001)],# ปรับ range \n",
    "    \"CO2_working_capacity [mL/g]\": y_pred \n",
    "    })\n",
    "\n",
    "submission.to_csv(\"submission.csv\", index=False) "
   ]
  },
  {
   "cell_type": "code",
   "execution_count": null,
   "id": "a3109ea2",
   "metadata": {},
   "outputs": [],
   "source": []
  }
 ],
 "metadata": {
  "kernelspec": {
   "display_name": "Python 3",
   "language": "python",
   "name": "python3"
  },
  "language_info": {
   "codemirror_mode": {
    "name": "ipython",
    "version": 3
   },
   "file_extension": ".py",
   "mimetype": "text/x-python",
   "name": "python",
   "nbconvert_exporter": "python",
   "pygments_lexer": "ipython3",
   "version": "3.8.8"
  }
 },
 "nbformat": 4,
 "nbformat_minor": 5
}
